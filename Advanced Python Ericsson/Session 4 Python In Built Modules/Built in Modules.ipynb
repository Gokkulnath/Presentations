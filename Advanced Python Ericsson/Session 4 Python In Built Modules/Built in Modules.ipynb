{
 "cells": [
  {
   "cell_type": "markdown",
   "metadata": {},
   "source": [
    "# Regex : re module"
   ]
  },
  {
   "cell_type": "code",
   "execution_count": 55,
   "metadata": {},
   "outputs": [
    {
     "name": "stdout",
     "output_type": "stream",
     "text": [
      "Found \"this\" in the string : Does this text match the pattern?\n",
      "from 5 to 9 (this)\n"
     ]
    }
   ],
   "source": [
    "import re\n",
    "pattern = 'this'\n",
    "text = 'Does this text match the pattern?'\n",
    "match = re.search(pattern, text)\n",
    "s = match.start()\n",
    "e = match.end()\n",
    "print(f'Found \"{match.re.pattern}\" in the string : {match.string}\\nfrom {s} to {e} ({text[s:e]})') "
   ]
  },
  {
   "cell_type": "code",
   "execution_count": 56,
   "metadata": {},
   "outputs": [
    {
     "name": "stdout",
     "output_type": "stream",
     "text": [
      "ab\n",
      "ab\n"
     ]
    }
   ],
   "source": [
    "import re\n",
    "text = 'abbaaabbbbaaaaa'\n",
    "pattern = 'ab'\n",
    "for match in re.findall(pattern, text):\n",
    "    print(f\"{match}\")"
   ]
  },
  {
   "cell_type": "code",
   "execution_count": 50,
   "metadata": {},
   "outputs": [
    {
     "data": {
      "text/plain": [
       "<re.Match object; span=(0, 1), match='d'>"
      ]
     },
     "execution_count": 50,
     "metadata": {},
     "output_type": "execute_result"
    }
   ],
   "source": [
    "pattern = re.compile(\"d\")\n",
    "pattern.search(\"dog\")"
   ]
  },
  {
   "cell_type": "code",
   "execution_count": 49,
   "metadata": {},
   "outputs": [
    {
     "name": "stdout",
     "output_type": "stream",
     "text": [
      "['Ross McFluff: 834.345.1254 155 Elm Street', 'Ronald Heathmore: 892.345.3428 436 Finley Avenue', 'Frank Burger: 925.541.7625 662 South Dogwood Way', 'Heather Albrecht: 548.326.4584 919 Park Place']\n"
     ]
    },
    {
     "data": {
      "text/plain": [
       "['Words', 'words', 'words', '']"
      ]
     },
     "execution_count": 49,
     "metadata": {},
     "output_type": "execute_result"
    }
   ],
   "source": [
    "'''\n",
    "split() splits a string into a list delimited by the passed pattern.\n",
    "The method is invaluable for converting textual data into data structures\n",
    "that can be easily read and modified by Python as demonstrated in the following example that creates a phonebook.\n",
    "'''\n",
    "text = \"\"\"Ross McFluff: 834.345.1254 155 Elm Street\n",
    "\n",
    "Ronald Heathmore: 892.345.3428 436 Finley Avenue\n",
    "Frank Burger: 925.541.7625 662 South Dogwood Way\n",
    "\n",
    "Heather Albrecht: 548.326.4584 919 Park Place\"\"\"\n",
    "entries = re.split(\"\\n+\", text)    \n",
    "print(entries)\n",
    "re.split(r'\\W+', 'Words, words, words.')"
   ]
  },
  {
   "cell_type": "code",
   "execution_count": 57,
   "metadata": {},
   "outputs": [
    {
     "name": "stdout",
     "output_type": "stream",
     "text": [
      "['r', 'o', 'f', 'e', 's', 's', 'o']\n",
      "['b', 'd', 'o', 'l', 'm', 'a', 'l', 'e']\n",
      "['l', 'e', 'a', 's']\n",
      "['e', 'p', 'o', 'r']\n",
      "['o', 'u']\n",
      "['b', 's', 'e', 'n', 'c', 'e']\n",
      "['r', 'o', 'm', 'p', 't', 'l']\n"
     ]
    },
    {
     "data": {
      "text/plain": [
       "'Poesfosrr Aeldbalmok, paelse rpreot yuor absneecs pmpotlry.'"
      ]
     },
     "execution_count": 57,
     "metadata": {},
     "output_type": "execute_result"
    }
   ],
   "source": [
    "'''sub() replaces every occurrence of a pattern with a string or the result of a function.\n",
    "This example demonstrates using sub() with a function to “munge” text, or randomize the\n",
    "order of all the characters in each word of a sentence except for the first and last characters:'''\n",
    "\n",
    "import re ,random\n",
    "def repl(m):\n",
    "    inner_word = list(m.group(2))\n",
    "    print(inner_word)\n",
    "    random.shuffle(inner_word)\n",
    "    return m.group(1) + \"\".join(inner_word) + m.group(3)\n",
    "\n",
    "text = \"Professor Abdolmalek, please report your absences promptly.\"\n",
    "re.sub(r\"(\\w)(\\w+)(\\w)\", repl, text)"
   ]
  },
  {
   "cell_type": "code",
   "execution_count": 58,
   "metadata": {},
   "outputs": [
    {
     "data": {
      "text/plain": [
       "['carefully', 'quickly']"
      ]
     },
     "execution_count": 58,
     "metadata": {},
     "output_type": "execute_result"
    }
   ],
   "source": [
    "# findall() matches all occurrences of a pattern\n",
    "text = \"He was carefully disguised but captured quickly by police.\"\n",
    "re.findall(r\"\\w+ly\", text)\n"
   ]
  },
  {
   "cell_type": "code",
   "execution_count": 59,
   "metadata": {},
   "outputs": [
    {
     "data": {
      "text/plain": [
       "<callable_iterator at 0x7c109e8>"
      ]
     },
     "execution_count": 59,
     "metadata": {},
     "output_type": "execute_result"
    }
   ],
   "source": [
    "matched_obj=re.finditer(r\"\\w+ly\", text)\n",
    "\n"
   ]
  },
  {
   "cell_type": "markdown",
   "metadata": {},
   "source": [
    "# Datetime"
   ]
  },
  {
   "cell_type": "code",
   "execution_count": 60,
   "metadata": {},
   "outputs": [
    {
     "name": "stdout",
     "output_type": "stream",
     "text": [
      "<class 'datetime.time'>\n",
      "2019-05-16\n"
     ]
    }
   ],
   "source": [
    "import datetime\n",
    "\n",
    "# get Current Time\n",
    "print(datetime.time)\n",
    "\n",
    "# Get Todays Date\n",
    "print(datetime.date.today())\n"
   ]
  },
  {
   "cell_type": "code",
   "execution_count": 61,
   "metadata": {},
   "outputs": [
    {
     "name": "stdout",
     "output_type": "stream",
     "text": [
      "Today : 2019-05-16\n",
      "One day : 1 day, 0:00:00\n",
      "Yesterday: 2019-05-15\n",
      "Times:\n",
      " t1: 12:55:00\n",
      " t2: 13:05:00\n",
      " t1 < t2: True\n",
      "Dates:\n",
      " d1: 2019-05-16\n",
      " d2: 2019-05-17\n",
      " d1 > d2: False\n"
     ]
    }
   ],
   "source": [
    "# Date Arithmetic\n",
    "import datetime\n",
    "today = datetime.date.today()\n",
    "print ('Today :', today)\n",
    "one_day = datetime.timedelta(days=1)\n",
    "print ('One day :', one_day)\n",
    "yesterday = today - one_day\n",
    "print ('Yesterday:', yesterday)\n",
    "\n",
    "# Comparing Values\n",
    "import datetime\n",
    "import time\n",
    "print('Times:')\n",
    "t1 = datetime.time(12, 55, 0)\n",
    "print (' t1:', t1)\n",
    "t2 = datetime.time(13, 5, 0)\n",
    "print (' t2:', t2)\n",
    "print (' t1 < t2:', t1 < t2)\n",
    "print ('Dates:')\n",
    "d1 = datetime.date.today()\n",
    "print( ' d1:', d1)\n",
    "d2 = datetime.date.today() + datetime.timedelta(days=1)\n",
    "print (' d2:', d2)\n",
    "print (' d1 > d2:', d1 > d2)"
   ]
  },
  {
   "cell_type": "code",
   "execution_count": 19,
   "metadata": {},
   "outputs": [
    {
     "name": "stdout",
     "output_type": "stream",
     "text": [
      "2006-11-21 16:30:00\n"
     ]
    },
    {
     "data": {
      "text/plain": [
       "'Tuesday, 21. November 2006 04:30PM'"
      ]
     },
     "execution_count": 19,
     "metadata": {},
     "output_type": "execute_result"
    }
   ],
   "source": [
    "#strftime() and strptime()\n",
    "\n",
    "dt=datetime.datetime.strptime(\"21/11/06 16:30\", \"%d/%m/%y %H:%M\")\n",
    "print(dt)\n",
    "\n",
    "dt.strftime(\"%A, %d. %B %Y %I:%M%p\")\n",
    "\n",
    "\n",
    "#Refer http://strftime.org/ for More Details regarding formatting"
   ]
  },
  {
   "cell_type": "markdown",
   "metadata": {},
   "source": [
    "# Json Module"
   ]
  },
  {
   "cell_type": "code",
   "execution_count": 62,
   "metadata": {},
   "outputs": [
    {
     "name": "stdout",
     "output_type": "stream",
     "text": [
      "DATA: [{'a': 'A', 'b': (2, 4), 'c': 3.0}]\n",
      "JSON: [{\"a\": \"A\", \"b\": [2, 4], \"c\": 3.0}]\n"
     ]
    }
   ],
   "source": [
    "import json\n",
    "data = [ { 'a':'A', 'b':(2, 4), 'c':3.0 } ]\n",
    "\n",
    "#Note :  repr() --> returns a printable representational string of the given object.\n",
    "print('DATA:', repr(data))\n",
    "data_string = json.dumps(data)\n",
    "print('JSON:', data_string)"
   ]
  },
  {
   "cell_type": "code",
   "execution_count": 63,
   "metadata": {},
   "outputs": [
    {
     "name": "stdout",
     "output_type": "stream",
     "text": [
      "DATA : [{'a': 'A', 'b': (2, 4), 'c': 3.0}]\n",
      "ENCODED: [{\"a\": \"A\", \"b\": [2, 4], \"c\": 3.0}]\n",
      "DECODED: [{'a': 'A', 'b': [2, 4], 'c': 3.0}]\n",
      "ORIGINAL: <class 'tuple'>\n",
      "DECODED : <class 'list'>\n"
     ]
    }
   ],
   "source": [
    "#Encoding, and then redecoding, may not give exactly the same type of object.\n",
    "import json\n",
    "data = [ { 'a':'A', 'b':(2, 4), 'c':3.0 } ]\n",
    "print('DATA :', data)\n",
    "data_string = json.dumps(data)\n",
    "print('ENCODED:', data_string)\n",
    "decoded = json.loads(data_string)\n",
    "print('DECODED:', decoded)\n",
    "print('ORIGINAL:', type(data[0]['b']))\n",
    "print('DECODED :', type(decoded[0]['b']))"
   ]
  },
  {
   "cell_type": "code",
   "execution_count": 64,
   "metadata": {},
   "outputs": [],
   "source": [
    "import json\n",
    "\n",
    "data = {}  \n",
    "data['people'] = []  \n",
    "data['people'].append({  \n",
    "    'name': 'Scott',\n",
    "    'website': 'stackabuse.com',\n",
    "    'from': 'Nebraska'\n",
    "})\n",
    "data['people'].append({  \n",
    "    'name': 'Larry',\n",
    "    'website': 'google.com',\n",
    "    'from': 'Michigan'\n",
    "})\n",
    "data['people'].append({  \n",
    "    'name': 'Tim',\n",
    "    'website': 'apple.com',\n",
    "    'from': 'Alabama'\n",
    "})\n",
    "\n",
    "with open('data.txt', 'w') as outfile:  \n",
    "    json.dump(data, outfile)"
   ]
  },
  {
   "cell_type": "code",
   "execution_count": 65,
   "metadata": {},
   "outputs": [
    {
     "name": "stdout",
     "output_type": "stream",
     "text": [
      "Name: Scott\n",
      "Website: stackabuse.com\n",
      "From: Nebraska\n",
      "\n",
      "Name: Larry\n",
      "Website: google.com\n",
      "From: Michigan\n",
      "\n",
      "Name: Tim\n",
      "Website: apple.com\n",
      "From: Alabama\n",
      "\n"
     ]
    }
   ],
   "source": [
    "import json\n",
    "\n",
    "with open('data.txt') as json_file:  \n",
    "    data = json.load(json_file)\n",
    "    for p in data['people']:\n",
    "        print('Name: ' + p['name'])\n",
    "        print('Website: ' + p['website'])\n",
    "        print('From: ' + p['from'])\n",
    "        print('')"
   ]
  },
  {
   "cell_type": "markdown",
   "metadata": {},
   "source": [
    "# csv Module"
   ]
  },
  {
   "cell_type": "code",
   "execution_count": 66,
   "metadata": {},
   "outputs": [
    {
     "name": "stdout",
     "output_type": "stream",
     "text": [
      "['record1', 'col1', 'col2', 'col3', 'col4']\n",
      "['record2', 'col1', 'col2', 'col3', 'col4']\n",
      "['record3', 'col1', 'col2', 'col3', 'col4']\n",
      "['record4', 'col1', 'col2', 'col3', 'col4']\n",
      "['record5', 'col1', 'col2', 'col3', 'col4']\n"
     ]
    }
   ],
   "source": [
    "# Reading CSV Files\n",
    "\n",
    "import csv\n",
    "import sys\n",
    "with open('sample.csv', 'rt') as f:\n",
    "    reader = csv.reader(f)\n",
    "    for row in reader:\n",
    "        print(row)"
   ]
  },
  {
   "cell_type": "code",
   "execution_count": 68,
   "metadata": {},
   "outputs": [
    {
     "name": "stdout",
     "output_type": "stream",
     "text": [
      "Title 1,Title 2,Title 3\n",
      "\n",
      "1,a,08/01/07\n",
      "\n",
      "2,b,08/02/07\n",
      "\n",
      "3,c,08/03/07\n",
      "\n",
      "\n"
     ]
    }
   ],
   "source": [
    "# Writing CSV Filesimport csv\n",
    "\n",
    "# 'rt' --> read + text mode\n",
    "# 'wt' --> write + text mode\n",
    "# note : text mode is not mandatory\n",
    "# Character   Meaning\n",
    "# 'r'     open for reading (default)\n",
    "# 'w'     open for writing, truncating the file first\n",
    "# 'x'     open for exclusive creation, failing if the file already exists\n",
    "# 'a'     open for writing, appending to the end of the file if it exists\n",
    "# 'b'     binary mode\n",
    "# 't'     text mode (default)\n",
    "# '+'     open a disk file for updating (reading and writing)\n",
    "# 'U'     universal newlines mode (deprecated)\n",
    "import sys\n",
    "with open('out.csv', 'wt') as f:\n",
    "    writer = csv.writer(f)\n",
    "    writer.writerow( ('Title 1', 'Title 2', 'Title 3') )\n",
    "    for i in range(3):\n",
    "        writer.writerow( (i+1,chr(ord('a') + i),'08/%02d/07' % (i+1),))\n",
    "    \n",
    "print(open('out.csv', 'rt').read())"
   ]
  },
  {
   "cell_type": "code",
   "execution_count": 69,
   "metadata": {},
   "outputs": [
    {
     "name": "stdout",
     "output_type": "stream",
     "text": [
      "['excel', 'excel-tab', 'unix']\n",
      "['Title 1', 'Title 2', 'Title 3']\n",
      "['1', 'first line\\nsecond line', '08/18/07']\n"
     ]
    }
   ],
   "source": [
    "# list existing dialects\n",
    "print(csv.list_dialects())\n",
    "\n",
    "# using Custom Delimiters :\n",
    "import csv\n",
    "csv.register_dialect('pipes', delimiter='|')\n",
    "with open('testpipe.txt', 'r') as f:\n",
    "    reader = csv.reader(f, dialect='pipes')\n",
    "    for row in reader:\n",
    "        print(row)"
   ]
  },
  {
   "cell_type": "markdown",
   "metadata": {},
   "source": [
    "# glob Module\n"
   ]
  },
  {
   "cell_type": "code",
   "execution_count": 71,
   "metadata": {},
   "outputs": [
    {
     "name": "stdout",
     "output_type": "stream",
     "text": [
      "Named explicitly:\n",
      "\t 23.txt\n",
      "\t common.txt\n",
      "\t data.txt\n",
      "\t README.txt\n",
      "\t testpipe.txt\n",
      "Named with wildcard:\n",
      "\t ..\\Misc\\(Treading on Python 2) Matt Harrison-Treading on Python Volume 2_ Intermediate Python. 2-hairysun (2013).pdf\n",
      "\t ..\\Misc\\(Treading on Python 2) Matt Harrison-Treading on Python Volume 2_ Intermediate Python. 2-hairysun (2013)1.pdf\n",
      "\t ..\\Misc\\Misc\n",
      "\t ..\\Misc\\Python standard library by example (2).pdf\n",
      "\t ..\\Misc\\Python standard library by example.pdf\n",
      "\t ..\\Misc\\Steven Lott - Functional Python Programming (2015, Packt Publishing).pdf\n",
      "\t ..\\Session 1  Python Bootstrap\\Code Walkthrough.ipynb\n",
      "\t ..\\Session 1  Python Bootstrap\\int_id.png\n",
      "\t ..\\Session 1  Python Bootstrap\\list_id.png\n",
      "\t ..\\Session 1  Python Bootstrap\\Python Environment Setup.pptx\n",
      "\t ..\\Session 1  Python Bootstrap\\Python- Bootstrap Zero to Intermediate.pptx\n",
      "\t ..\\Session 1  Python Bootstrap\\string_id.png\n",
      "\t ..\\Session 1  Python Bootstrap\\tuple_id.png\n",
      "\t ..\\Session 1  Python Bootstrap\\Untitled.ipynb\n",
      "\t ..\\Session 1  Python Bootstrap\\Untitled.py\n",
      "\t ..\\Session 2 OO Python\\Code\n",
      "\t ..\\Session 2 OO Python\\Object Oriented Programming.pptx\n",
      "\t ..\\Session 2 OO Python\\OO Code Snippets.ipynb\n",
      "\t ..\\Session 3 Iterator,Generators and Applications\\common.txt\n",
      "\t ..\\Session 3 Iterator,Generators and Applications\\Iterator,Generators and Applications.ipynb\n",
      "\t ..\\Session 3 Iterator,Generators and Applications\\Iterator,Generators and Applications.pptx\n",
      "\t ..\\Session 3 Iterator,Generators and Applications\\~$Functional Programming.pptx\n",
      "\t ..\\Session 4 Python In Built Modules\\23.txt\n",
      "\t ..\\Session 4 Python In Built Modules\\append.zip\n",
      "\t ..\\Session 4 Python In Built Modules\\Built in Modules.ipynb\n",
      "\t ..\\Session 4 Python In Built Modules\\common.txt\n",
      "\t ..\\Session 4 Python In Built Modules\\data.txt\n",
      "\t ..\\Session 4 Python In Built Modules\\misc\n",
      "\t ..\\Session 4 Python In Built Modules\\out.csv\n",
      "\t ..\\Session 4 Python In Built Modules\\Python In-built Modules.pptx\n",
      "\t ..\\Session 4 Python In Built Modules\\pyzipfile.zip\n",
      "\t ..\\Session 4 Python In Built Modules\\README.txt\n",
      "\t ..\\Session 4 Python In Built Modules\\sample.csv\n",
      "\t ..\\Session 4 Python In Built Modules\\sample.zip\n",
      "\t ..\\Session 4 Python In Built Modules\\testpipe.txt\n",
      "\t ..\\Session 4 Python In Built Modules\\write.zip\n",
      "\t ..\\Session 4 Python In Built Modules\\~$Python In-built Modules.pptx\n",
      "\t ..\\Session 5 Using Python for Automation\\01_Introduction.pdf\n",
      "\t ..\\Session 5 Using Python for Automation\\02_Data_types.pdf\n",
      "\t ..\\Session 5 Using Python for Automation\\03_NumPy.pdf\n",
      "\t ..\\Session 5 Using Python for Automation\\03_Series.pdf\n",
      "\t ..\\Session 5 Using Python for Automation\\04_Data_Frame.pdf\n",
      "\t ..\\Session 5 Using Python for Automation\\04_NumPy_file_handling.pdf\n",
      "\t ..\\Session 5 Using Python for Automation\\06_indexing.pdf\n",
      "\t ..\\Session 5 Using Python for Automation\\Using Python for Automation .pptx\n"
     ]
    }
   ],
   "source": [
    "import glob\n",
    "print('Named explicitly:')\n",
    "for name in glob.glob('*.txt'):\n",
    "    print('\\t', name)\n",
    "print('Named with wildcard:')\n",
    "for name in glob.glob('../*/*'):\n",
    "    print('\\t', name)"
   ]
  },
  {
   "cell_type": "code",
   "execution_count": 72,
   "metadata": {},
   "outputs": [
    {
     "name": "stdout",
     "output_type": "stream",
     "text": [
      "23.txt\n"
     ]
    }
   ],
   "source": [
    "# Use character range ([a-z]) instead of a question mark to match one of several characters.\n",
    "import glob\n",
    "for name in glob.glob('*[0-9].txt'):\n",
    "    print(name)"
   ]
  },
  {
   "cell_type": "markdown",
   "metadata": {},
   "source": [
    "# shutil module"
   ]
  },
  {
   "cell_type": "code",
   "execution_count": 73,
   "metadata": {},
   "outputs": [
    {
     "data": {
      "text/plain": [
       "'misc/23.txt'"
      ]
     },
     "execution_count": 73,
     "metadata": {},
     "output_type": "execute_result"
    }
   ],
   "source": [
    "import shutil\n",
    "\n",
    "shutil.copy('23.txt','misc/')"
   ]
  },
  {
   "cell_type": "code",
   "execution_count": 74,
   "metadata": {},
   "outputs": [
    {
     "data": {
      "text/plain": [
       "'misc/24.txt'"
      ]
     },
     "execution_count": 74,
     "metadata": {},
     "output_type": "execute_result"
    }
   ],
   "source": [
    "shutil.move('misc/23.txt','misc/24.txt')"
   ]
  },
  {
   "cell_type": "code",
   "execution_count": 75,
   "metadata": {},
   "outputs": [
    {
     "data": {
      "text/plain": [
       "usage(total=467526479872, used=287651012608, free=179875467264)"
      ]
     },
     "execution_count": 75,
     "metadata": {},
     "output_type": "execute_result"
    }
   ],
   "source": [
    "usage=shutil.disk_usage('.') # Usage show in Bytes\n",
    "usage"
   ]
  },
  {
   "cell_type": "code",
   "execution_count": 66,
   "metadata": {},
   "outputs": [
    {
     "data": {
      "text/plain": [
       "445867.99609375"
      ]
     },
     "execution_count": 66,
     "metadata": {},
     "output_type": "execute_result"
    }
   ],
   "source": [
    "usage.total/1024**2 # Total Disk Size in GB"
   ]
  },
  {
   "cell_type": "code",
   "execution_count": 67,
   "metadata": {},
   "outputs": [
    {
     "data": {
      "text/plain": [
       "274543.33203125"
      ]
     },
     "execution_count": 67,
     "metadata": {},
     "output_type": "execute_result"
    }
   ],
   "source": [
    "usage.used/1024**2 # Used Disk Size in GB"
   ]
  },
  {
   "cell_type": "markdown",
   "metadata": {},
   "source": [
    "# filecmp module"
   ]
  },
  {
   "cell_type": "code",
   "execution_count": 76,
   "metadata": {},
   "outputs": [
    {
     "name": "stdout",
     "output_type": "stream",
     "text": [
      "True\n",
      "False\n"
     ]
    },
    {
     "data": {
      "text/plain": [
       "False"
      ]
     },
     "execution_count": 76,
     "metadata": {},
     "output_type": "execute_result"
    }
   ],
   "source": [
    "import filecmp\n",
    "print(filecmp.cmp('misc/24.txt','23.txt')) # True --> Same File Contents\n",
    "print(filecmp.cmp('data.txt','23.txt')) # False --> Different File Contents\n",
    "# By default shallow = True\n",
    "filecmp.cmp('data.txt','23.txt',shallow=False) # shallow = False --> compare based on File Contents"
   ]
  },
  {
   "cell_type": "code",
   "execution_count": 84,
   "metadata": {},
   "outputs": [
    {
     "data": {
      "text/plain": [
       "(['data.txt', '23.txt'], [], [])"
      ]
     },
     "execution_count": 84,
     "metadata": {},
     "output_type": "execute_result"
    }
   ],
   "source": []
  },
  {
   "cell_type": "code",
   "execution_count": 82,
   "metadata": {
    "scrolled": true
   },
   "outputs": [
    {
     "data": {
      "text/plain": [
       "os.stat_result(st_mode=33206, st_ino=15199648742533941, st_dev=2020546160, st_nlink=1, st_uid=0, st_gid=0, st_size=204, st_atime=1557942225, st_mtime=1557986328, st_ctime=1557942225)"
      ]
     },
     "execution_count": 82,
     "metadata": {},
     "output_type": "execute_result"
    }
   ],
   "source": [
    "import os\n",
    "os.stat('data.txt')"
   ]
  },
  {
   "cell_type": "code",
   "execution_count": 77,
   "metadata": {},
   "outputs": [
    {
     "name": "stdout",
     "output_type": "stream",
     "text": [
      "diff ../Session 3 Iterator,Generators and Applications/ ../Session 4 Python In Built Modules/\n",
      "Only in ../Session 3 Iterator,Generators and Applications/ : ['Iterator,Generators and Applications.ipynb', 'Iterator,Generators and Applications.pptx', '~$Functional Programming.pptx']\n",
      "Only in ../Session 4 Python In Built Modules/ : ['23.txt', 'Built in Modules.ipynb', 'Python In-built Modules.pptx', 'README.txt', 'append.zip', 'data.txt', 'misc', 'out.csv', 'pyzipfile.zip', 'sample.csv', 'sample.zip', 'testpipe.txt', 'write.zip', '~$Python In-built Modules.pptx']\n",
      "Identical files : ['common.txt']\n",
      "Common subdirectories : ['.ipynb_checkpoints']\n"
     ]
    }
   ],
   "source": [
    "import filecmp\n",
    "filecmp.dircmp(r'../Session 3 Iterator,Generators and Applications/',r'../Session 4 Python In Built Modules/').report()"
   ]
  },
  {
   "cell_type": "markdown",
   "metadata": {},
   "source": [
    "# Zipfile module"
   ]
  },
  {
   "cell_type": "code",
   "execution_count": 85,
   "metadata": {},
   "outputs": [
    {
     "name": "stdout",
     "output_type": "stream",
     "text": [
      "True\n"
     ]
    },
    {
     "data": {
      "text/plain": [
       "False"
      ]
     },
     "execution_count": 85,
     "metadata": {},
     "output_type": "execute_result"
    }
   ],
   "source": [
    "import zipfile\n",
    "\n",
    "# Check file is a zip or not\n",
    "print(zipfile.is_zipfile('sample.zip'))\n",
    "\n",
    "zipfile.is_zipfile('sample.csv')"
   ]
  },
  {
   "cell_type": "code",
   "execution_count": 10,
   "metadata": {},
   "outputs": [
    {
     "name": "stdout",
     "output_type": "stream",
     "text": [
      "['sample.csv', 'testpipe.txt']\n"
     ]
    }
   ],
   "source": [
    "# Reading Metadata from an Archive\n",
    "import zipfile\n",
    "with zipfile.ZipFile('sample.zip', 'r') as zf:\n",
    "    print(zf.namelist())"
   ]
  },
  {
   "cell_type": "code",
   "execution_count": 85,
   "metadata": {},
   "outputs": [
    {
     "name": "stdout",
     "output_type": "stream",
     "text": [
      "<ZipInfo filename='sample.csv' compress_type=deflate external_attr=0x20 file_size=139 compress_size=37>\n",
      "<ZipInfo filename='testpipe.txt' compress_type=deflate external_attr=0x20 file_size=65 compress_size=52>\n"
     ]
    }
   ],
   "source": [
    "# access all the metadata about the ZIP contents, use the infolist() or getinfo()\n",
    "with zipfile.ZipFile('sample.zip') as zf:\n",
    "    for fn in zf.namelist():\n",
    "        print(zf.getinfo(fn))"
   ]
  },
  {
   "cell_type": "code",
   "execution_count": 86,
   "metadata": {},
   "outputs": [
    {
     "name": "stdout",
     "output_type": "stream",
     "text": [
      "sample.csv :\n",
      "b'record1,col1,col2,col3,col4\\nrecord2,col1,col2,col3,col4\\nrecord3,col1,col2,col3,col4\\nrecord4,col1,col2,col3,col4\\nrecord5,col1,col2,col3,col4'\n",
      "ERROR: Did not find notthere.txt in zip file \n"
     ]
    }
   ],
   "source": [
    "# Extracting Archived Files from an Archive\n",
    "import zipfile\n",
    "with zipfile.ZipFile('sample.zip') as zf:\n",
    "    for filename in [ 'sample.csv', 'notthere.txt' ]:\n",
    "        try:\n",
    "            data = zf.read(filename)\n",
    "        except KeyError:\n",
    "            print(f'ERROR: Did not find {filename} in zip file ')\n",
    "        else:\n",
    "            print(filename, ':')\n",
    "            print(data)\n",
    "\n",
    "        "
   ]
  },
  {
   "cell_type": "code",
   "execution_count": 87,
   "metadata": {},
   "outputs": [
    {
     "name": "stdout",
     "output_type": "stream",
     "text": [
      "adding README.txt\n",
      "['README.txt']\n"
     ]
    }
   ],
   "source": [
    "#Creating New Archives\n",
    "\n",
    "with zipfile.ZipFile('write.zip', mode='w') as zf:\n",
    "    print('adding README.txt')\n",
    "    zf.write('README.txt')\n",
    "with zipfile.ZipFile('write.zip', 'r') as zf:\n",
    "    print(zf.namelist())\n"
   ]
  },
  {
   "cell_type": "code",
   "execution_count": 12,
   "metadata": {},
   "outputs": [
    {
     "name": "stdout",
     "output_type": "stream",
     "text": [
      "creating archive\n"
     ]
    }
   ],
   "source": [
    "import zipfile\n",
    "print('creating archive')\n",
    "\n",
    "with zipfile.ZipFile('append.zip', mode='w') as zf:\n",
    "    zf.write('README.txt',arcname='readme1.txt')\n",
    "with zipfile.ZipFile('append.zip', mode='a') as zf:\n",
    "    zf.write('README.txt',arcname='readme2.txt')"
   ]
  },
  {
   "cell_type": "code",
   "execution_count": 13,
   "metadata": {},
   "outputs": [
    {
     "name": "stdout",
     "output_type": "stream",
     "text": [
      "['readme1.txt', 'readme2.txt']\n"
     ]
    }
   ],
   "source": [
    "with zipfile.ZipFile('append.zip', 'r') as zf:\n",
    "    print(zf.namelist())\n"
   ]
  },
  {
   "cell_type": "code",
   "execution_count": null,
   "metadata": {},
   "outputs": [],
   "source": [
    "# Note : zipfile module does not support ZIP files with appended comments or multidisk\n",
    "# archives. It does support ZIP files larger than 4 GB that use the ZIP64 extensions."
   ]
  },
  {
   "cell_type": "markdown",
   "metadata": {},
   "source": [
    "# getpass"
   ]
  },
  {
   "cell_type": "code",
   "execution_count": 88,
   "metadata": {},
   "outputs": [
    {
     "name": "stdout",
     "output_type": "stream",
     "text": [
      "········\n",
      "You entered:Test\n"
     ]
    }
   ],
   "source": [
    "import getpass\n",
    "try:\n",
    "    p = getpass.getpass()\n",
    "except Exception as err:\n",
    "    print(f'ERROR:{err}')\n",
    "else:\n",
    "    print(f'You entered:{p}')"
   ]
  },
  {
   "cell_type": "code",
   "execution_count": 89,
   "metadata": {},
   "outputs": [
    {
     "name": "stdout",
     "output_type": "stream",
     "text": [
      "What is your favorite color?········\n",
      "blue\n"
     ]
    }
   ],
   "source": [
    "# Adding text to input prompt \n",
    "p = getpass.getpass(prompt='What is your favorite color?')\n",
    "print(p)"
   ]
  },
  {
   "cell_type": "markdown",
   "metadata": {},
   "source": [
    "# sys Module "
   ]
  },
  {
   "cell_type": "code",
   "execution_count": 1,
   "metadata": {},
   "outputs": [
    {
     "name": "stdout",
     "output_type": "stream",
     "text": [
      "C:\\Users\\egokkul\\AppData\\Local\\Continuum\\anaconda3\\envs\\MLAI\\python.exe\n"
     ]
    }
   ],
   "source": [
    "import sys\n",
    "print(sys.executable)"
   ]
  },
  {
   "cell_type": "code",
   "execution_count": 2,
   "metadata": {},
   "outputs": [
    {
     "name": "stdout",
     "output_type": "stream",
     "text": [
      "C:\\Users\\egokkul\\AppData\\Local\\Continuum\\anaconda3\\envs\\MLAI\n",
      "3000\n"
     ]
    }
   ],
   "source": [
    "print(sys.prefix)\n",
    "print(sys.getrecursionlimit())\n"
   ]
  },
  {
   "cell_type": "code",
   "execution_count": 28,
   "metadata": {},
   "outputs": [
    {
     "name": "stdout",
     "output_type": "stream",
     "text": [
      "utf-8\n"
     ]
    }
   ],
   "source": [
    "print(sys.getfilesystemencoding())"
   ]
  },
  {
   "cell_type": "code",
   "execution_count": 3,
   "metadata": {},
   "outputs": [
    {
     "name": "stdout",
     "output_type": "stream",
     "text": [
      "['C:\\\\Users\\\\egokkul\\\\AppData\\\\Local\\\\Continuum\\\\anaconda3\\\\envs\\\\MLAI\\\\python36.zip', 'C:\\\\Users\\\\egokkul\\\\AppData\\\\Local\\\\Continuum\\\\anaconda3\\\\envs\\\\MLAI\\\\DLLs', 'C:\\\\Users\\\\egokkul\\\\AppData\\\\Local\\\\Continuum\\\\anaconda3\\\\envs\\\\MLAI\\\\lib', 'C:\\\\Users\\\\egokkul\\\\AppData\\\\Local\\\\Continuum\\\\anaconda3\\\\envs\\\\MLAI', '', 'C:\\\\Users\\\\egokkul\\\\AppData\\\\Local\\\\Continuum\\\\anaconda3\\\\envs\\\\MLAI\\\\lib\\\\site-packages', 'C:\\\\Users\\\\egokkul\\\\AppData\\\\Local\\\\Continuum\\\\anaconda3\\\\envs\\\\MLAI\\\\lib\\\\site-packages\\\\IPython\\\\extensions', 'C:\\\\Users\\\\egokkul\\\\.ipython']\n"
     ]
    }
   ],
   "source": [
    "print(sys.path)"
   ]
  },
  {
   "cell_type": "markdown",
   "metadata": {},
   "source": [
    "# platform Module\n"
   ]
  },
  {
   "cell_type": "code",
   "execution_count": 6,
   "metadata": {},
   "outputs": [
    {
     "data": {
      "text/plain": [
       "'3.6.8'"
      ]
     },
     "execution_count": 6,
     "metadata": {},
     "output_type": "execute_result"
    }
   ],
   "source": [
    "import platform\n",
    "\n",
    "platform.python_version()"
   ]
  },
  {
   "cell_type": "code",
   "execution_count": 7,
   "metadata": {},
   "outputs": [
    {
     "name": "stdout",
     "output_type": "stream",
     "text": [
      "Compiler Version : MSC v.1916 64 bit (AMD64)\n",
      "Build : ('default', 'Feb 21 2019 18:30:04')\n"
     ]
    }
   ],
   "source": [
    "print(f'Compiler Version : {platform.python_compiler()}')\n",
    "print(f'Build : {platform.python_build()}')"
   ]
  },
  {
   "cell_type": "code",
   "execution_count": 8,
   "metadata": {},
   "outputs": [
    {
     "name": "stdout",
     "output_type": "stream",
     "text": [
      "uname:  uname_result(system='Windows', node='5CD7033NH4', release='7', version='6.1.7601', machine='AMD64', processor='Intel64 Family 6 Model 78 Stepping 3, GenuineIntel')\n",
      "system:  Windows\n",
      "node:  5CD7033NH4\n",
      "release:  7\n",
      "version:  6.1.7601\n",
      "processor:  Intel64 Family 6 Model 78 Stepping 3, GenuineIntel\n"
     ]
    }
   ],
   "source": [
    "print('uname: ',platform.uname())\n",
    "print('system: ',platform.system())\n",
    "print('node: ',platform.node())\n",
    "print('release: ',platform.release())\n",
    "print('version: ',platform.version())\n",
    "print('processor: ',platform.processor())"
   ]
  },
  {
   "cell_type": "markdown",
   "metadata": {},
   "source": [
    "# logging"
   ]
  },
  {
   "cell_type": "code",
   "execution_count": 9,
   "metadata": {},
   "outputs": [
    {
     "name": "stdout",
     "output_type": "stream",
     "text": [
      "FILE:\n",
      "DEBUG:root:This message should go to the log file\n",
      "\n"
     ]
    }
   ],
   "source": [
    "import logging\n",
    "LOG_FILENAME = 'logging_example.out'\n",
    "logging.basicConfig(filename=LOG_FILENAME,level=logging.DEBUG)\n",
    "\n",
    "logging.debug('This message should go to the log file')\n",
    "\n",
    "with open(LOG_FILENAME, 'rt') as f:\n",
    "    body = f.read()\n",
    "print('FILE:')\n",
    "print(body)"
   ]
  },
  {
   "cell_type": "code",
   "execution_count": 11,
   "metadata": {},
   "outputs": [
    {
     "name": "stdout",
     "output_type": "stream",
     "text": [
      "logging_rotatingfile_example.log\n",
      "logging_rotatingfile_example.log.1\n",
      "logging_rotatingfile_example.log.2\n",
      "logging_rotatingfile_example.log.3\n",
      "logging_rotatingfile_example.log.4\n",
      "logging_rotatingfile_example.log.5\n"
     ]
    }
   ],
   "source": [
    "import glob\n",
    "import logging\n",
    "import logging.handlers\n",
    "LOG_FILENAME = 'logging_rotatingfile_example.log'\n",
    "# Set up a specific logger with our desired output level\n",
    "my_logger = logging.getLogger('MyLogger')\n",
    "my_logger.setLevel(logging.INFO)\n",
    "\n",
    "# Add the log message handler to the logger\n",
    "handler = logging.handlers.RotatingFileHandler(LOG_FILENAME,\n",
    "maxBytes=20,\n",
    "backupCount=5,\n",
    ")\n",
    "my_logger.addHandler(handler)\n",
    "# Log some messages\n",
    "for i in range(20):\n",
    "    my_logger.debug('i = %d' % i)\n",
    "    # See what files are created\n",
    "    \n",
    "logfiles = glob.glob('%s*' % LOG_FILENAME)\n",
    "for filename in logfiles:\n",
    "    print(filename)"
   ]
  },
  {
   "cell_type": "code",
   "execution_count": 1,
   "metadata": {},
   "outputs": [
    {
     "name": "stdout",
     "output_type": "stream",
     "text": [
      "Enter the log Level: info\n",
      "20\n"
     ]
    }
   ],
   "source": [
    "import logging\n",
    "import sys\n",
    "LEVELS = { 'debug':logging.DEBUG,\n",
    "'info':logging.INFO,\n",
    "'warning':logging.WARNING,\n",
    "'error':logging.ERROR,\n",
    "'critical':logging.CRITICAL,\n",
    "}\n",
    "\n",
    "# if a message is CRITICAL and the loggeris set to ERROR, the message is emitted (50 > 40).\n",
    "# If a message is a WARNING and the logger is set to produce only messages set to ERROR, the message is not emitted (30 < 40).\n",
    "level_name=input('Enter the log Level: ')\n",
    "level = LEVELS.get(level_name, logging.NOTSET)\n",
    "print(level)\n",
    "logging.basicConfig(level=level)\n"
   ]
  },
  {
   "cell_type": "code",
   "execution_count": 2,
   "metadata": {},
   "outputs": [
    {
     "name": "stderr",
     "output_type": "stream",
     "text": [
      "INFO:root:This is an info message\n",
      "WARNING:root:This is a warning message\n",
      "ERROR:root:This is an error message\n",
      "CRITICAL:root:This is a critical error message\n"
     ]
    }
   ],
   "source": [
    "logging.debug('This is a debug message')\n",
    "logging.info('This is an info message')\n",
    "logging.warning('This is a warning message')\n",
    "logging.error('This is an error message')\n",
    "logging.critical('This is a critical error message')"
   ]
  },
  {
   "cell_type": "markdown",
   "metadata": {},
   "source": [
    "# Subprocess Module"
   ]
  },
  {
   "cell_type": "code",
   "execution_count": 3,
   "metadata": {},
   "outputs": [
    {
     "name": "stdout",
     "output_type": "stream",
     "text": [
      "0\n"
     ]
    },
    {
     "data": {
      "text/plain": [
       "0"
      ]
     },
     "execution_count": 3,
     "metadata": {},
     "output_type": "execute_result"
    }
   ],
   "source": [
    "import subprocess\n",
    "\n",
    "print(subprocess.call(['ipconfig'])) # 0 Process was Execute Successfully\n",
    "subprocess.call(\"echo $HOME\", shell=True)"
   ]
  },
  {
   "cell_type": "code",
   "execution_count": 6,
   "metadata": {
    "scrolled": false
   },
   "outputs": [
    {
     "name": "stdout",
     "output_type": "stream",
     "text": [
      "(b'\\r\\nWindows IP Configuration\\r\\n\\r\\n\\r\\nEthernet adapter Bluetooth Network C'\n",
      " b'onnection:\\r\\n\\r\\n   Media State . . . . . . . . . . . : Media disconnec'\n",
      " b'ted\\r\\n   Connection-specific DNS Suffix  . : \\r\\n\\r\\nWireless LAN adapter'\n",
      " b' Wireless Network Connection 3:\\r\\n\\r\\n   Media State . . . . . . . . . . . '\n",
      " b': Media disconnected\\r\\n   Connection-specific DNS Suffix  . : \\r\\n\\r\\nWir'\n",
      " b'eless LAN adapter Wireless Network Connection:\\r\\n\\r\\n   Connection-specific'\n",
      " b' DNS Suffix  . : in.ao.ericsson.se\\r\\n   Link-local IPv6 Address . . . . .'\n",
      " b' : fe80::8c9a:e680:1933:1f85%14\\r\\n   IPv4 Address. . . . . . . . . . . : '\n",
      " b'100.97.124.86\\r\\n   Subnet Mask . . . . . . . . . . . : 255.255.240.0\\r\\n   '\n",
      " b'Default Gateway . . . . . . . . . : 100.97.112.1\\r\\n\\r\\nEthernet adapter Loc'\n",
      " b'al Area Connection:\\r\\n\\r\\n   Media State . . . . . . . . . . . : Media disc'\n",
      " b'onnected\\r\\n   Connection-specific DNS Suffix  . : ericsson.se\\r\\n\\r\\nEthe'\n",
      " b'rnet adapter VirtualBox Host-Only Network:\\r\\n\\r\\n   Connection-specific DNS'\n",
      " b' Suffix  . : \\r\\n   Link-local IPv6 Address . . . . . : fe80::fc82:9d9b:b3'\n",
      " b'f5:aa1c%15\\r\\n   IPv4 Address. . . . . . . . . . . : 192.168.56.1\\r\\n   Subn'\n",
      " b'et Mask . . . . . . . . . . . : 255.255.255.0\\r\\n   Default Gateway . . . '\n",
      " b'. . . . . . : \\r\\n\\r\\nEthernet adapter VirtualBox Host-Only Network #2:\\r'\n",
      " b'\\n\\r\\n   Connection-specific DNS Suffix  . : \\r\\n   Link-local IPv6 Addre'\n",
      " b'ss . . . . . : fe80::7cfb:8929:1e15:36a5%23\\r\\n   IPv4 Address. . . . . . '\n",
      " b'. . . . . : 192.168.29.2\\r\\n   Subnet Mask . . . . . . . . . . . : 255.255'\n",
      " b'.255.0\\r\\n   Default Gateway . . . . . . . . . : \\r\\n\\r\\nEthernet adapter '\n",
      " b'VirtualBox Host-Only Network #3:\\r\\n\\r\\n   Connection-specific DNS Suffix  .'\n",
      " b' : \\r\\n   Link-local IPv6 Address . . . . . : fe80::9ce8:28f6:377e:8291%25'\n",
      " b'\\r\\n   IPv4 Address. . . . . . . . . . . : 192.168.99.1\\r\\n   Subnet Mask . '\n",
      " b'. . . . . . . . . . : 255.255.255.0\\r\\n   Default Gateway . . . . . . . . '\n",
      " b'. : \\r\\n\\r\\nTunnel adapter 6TO4 Adapter:\\r\\n\\r\\n   Media State . . . . . . .'\n",
      " b' . . . . : Media disconnected\\r\\n   Connection-specific DNS Suffix  . : \\r\\n'\n",
      " b'\\r\\nTunnel adapter isatap.cflogin:\\r\\n\\r\\n   Media State . . . . . . . . .'\n",
      " b' . . : Media disconnected\\r\\n   Connection-specific DNS Suffix  . : \\r\\n'\n",
      " b'\\r\\nTunnel adapter Reusable Microsoft 6To4 Adapter:\\r\\n\\r\\n   Connection-s'\n",
      " b'pecific DNS Suffix  . : in.ao.ericsson.se\\r\\n   IPv6 Address. . . . . . . '\n",
      " b'. . . . : 2002:6461:7c56::6461:7c56\\r\\n   Default Gateway . . . . . . . . '\n",
      " b'. : \\r\\n\\r\\nTunnel adapter isatap.{A4810E7F-217D-457D-851D-D12B9C7CD4E9}'\n",
      " b':\\r\\n\\r\\n   Media State . . . . . . . . . . . : Media disconnected\\r\\n   C'\n",
      " b'onnection-specific DNS Suffix  . : \\r\\n\\r\\nTunnel adapter Teredo Tunneling P'\n",
      " b'seudo-Interface:\\r\\n\\r\\n   Media State . . . . . . . . . . . : Media disconn'\n",
      " b'ected\\r\\n   Connection-specific DNS Suffix  . : \\r\\n\\r\\nTunnel adapter isa'\n",
      " b'tap.{C3AE835B-666E-49F6-B411-0AF3B26CCF02}:\\r\\n\\r\\n   Media State . . . . . '\n",
      " b'. . . . . . : Media disconnected\\r\\n   Connection-specific DNS Suffix  . :'\n",
      " b' \\r\\n\\r\\nTunnel adapter isatap.{F0E68A7D-EC00-459D-A313-0A5EF36AEED2}:\\r\\n'\n",
      " b'\\r\\n   Media State . . . . . . . . . . . : Media disconnected\\r\\n   Connecti'\n",
      " b'on-specific DNS Suffix  . : \\r\\n\\r\\nTunnel adapter isatap.{2705E753-B4E0-453'\n",
      " b'5-90C5-F471EB22A424}:\\r\\n\\r\\n   Media State . . . . . . . . . . . : Media di'\n",
      " b'sconnected\\r\\n   Connection-specific DNS Suffix  . : \\r\\n\\r\\nTunnel adapte'\n",
      " b'r isatap.{AC03F37F-3E00-46AB-852D-9A6EAEEEA541}:\\r\\n\\r\\n   Media State . . .'\n",
      " b' . . . . . . . . : Media disconnected\\r\\n   Connection-specific DNS Suffix'\n",
      " b'  . : \\r\\n\\r\\nTunnel adapter isatap.in.ao.ericsson.se:\\r\\n\\r\\n   Media State'\n",
      " b' . . . . . . . . . . . : Media disconnected\\r\\n   Connection-specific DNS '\n",
      " b'Suffix  . : in.ao.ericsson.se\\r\\n\\r\\nTunnel adapter isatap.ericsson.se:\\r'\n",
      " b'\\n\\r\\n   Media State . . . . . . . . . . . : Media disconnected\\r\\n   Con'\n",
      " b'nection-specific DNS Suffix  . : \\r\\n')\n"
     ]
    }
   ],
   "source": [
    "import subprocess\n",
    "import pprint\n",
    "output = subprocess.check_output(['ipconfig'])\n",
    "pprint.pprint(output)"
   ]
  },
  {
   "cell_type": "code",
   "execution_count": 11,
   "metadata": {},
   "outputs": [
    {
     "ename": "NameError",
     "evalue": "name 'key' is not defined",
     "output_type": "error",
     "traceback": [
      "\u001b[1;31m---------------------------------------------------------------------------\u001b[0m",
      "\u001b[1;31mNameError\u001b[0m                                 Traceback (most recent call last)",
      "\u001b[1;32m<ipython-input-11-68fddba34909>\u001b[0m in \u001b[0;36m<module>\u001b[1;34m\u001b[0m\n\u001b[0;32m      3\u001b[0m \u001b[1;32mwith\u001b[0m \u001b[0mopen\u001b[0m\u001b[1;33m(\u001b[0m\u001b[0mLOG_FILENAME\u001b[0m\u001b[1;33m,\u001b[0m \u001b[1;34m'rt'\u001b[0m\u001b[1;33m)\u001b[0m \u001b[1;32mas\u001b[0m \u001b[0mf\u001b[0m\u001b[1;33m:\u001b[0m\u001b[1;33m\u001b[0m\u001b[1;33m\u001b[0m\u001b[0m\n\u001b[0;32m      4\u001b[0m     \u001b[0mbody\u001b[0m \u001b[1;33m=\u001b[0m \u001b[0mf\u001b[0m\u001b[1;33m.\u001b[0m\u001b[0mread\u001b[0m\u001b[1;33m(\u001b[0m\u001b[1;33m)\u001b[0m\u001b[1;33m\u001b[0m\u001b[1;33m\u001b[0m\u001b[0m\n\u001b[1;32m----> 5\u001b[1;33m     \u001b[0mkey\u001b[0m\u001b[1;33m\u001b[0m\u001b[1;33m\u001b[0m\u001b[0m\n\u001b[0m\u001b[0;32m      6\u001b[0m \u001b[0mprint\u001b[0m\u001b[1;33m(\u001b[0m\u001b[1;34m'FILE:'\u001b[0m\u001b[1;33m)\u001b[0m\u001b[1;33m\u001b[0m\u001b[1;33m\u001b[0m\u001b[0m\n\u001b[0;32m      7\u001b[0m \u001b[0mprint\u001b[0m\u001b[1;33m(\u001b[0m\u001b[0mbody\u001b[0m\u001b[1;33m)\u001b[0m\u001b[1;33m\u001b[0m\u001b[1;33m\u001b[0m\u001b[0m\n",
      "\u001b[1;31mNameError\u001b[0m: name 'key' is not defined"
     ]
    }
   ],
   "source": [
    "import pdb \n",
    "LOG_FILENAME='logging_example.out'\n",
    "with open(LOG_FILENAME, 'rt') as f:\n",
    "    body = f.read()\n",
    "    key\n",
    "print('FILE:')\n",
    "print(body)"
   ]
  },
  {
   "cell_type": "code",
   "execution_count": 12,
   "metadata": {},
   "outputs": [
    {
     "name": "stdout",
     "output_type": "stream",
     "text": [
      "None\n",
      "> \u001b[1;32m<ipython-input-11-68fddba34909>\u001b[0m(5)\u001b[0;36m<module>\u001b[1;34m()\u001b[0m\n",
      "\u001b[1;32m      3 \u001b[1;33m\u001b[1;32mwith\u001b[0m \u001b[0mopen\u001b[0m\u001b[1;33m(\u001b[0m\u001b[0mLOG_FILENAME\u001b[0m\u001b[1;33m,\u001b[0m \u001b[1;34m'rt'\u001b[0m\u001b[1;33m)\u001b[0m \u001b[1;32mas\u001b[0m \u001b[0mf\u001b[0m\u001b[1;33m:\u001b[0m\u001b[1;33m\u001b[0m\u001b[1;33m\u001b[0m\u001b[0m\n",
      "\u001b[0m\u001b[1;32m      4 \u001b[1;33m    \u001b[0mbody\u001b[0m \u001b[1;33m=\u001b[0m \u001b[0mf\u001b[0m\u001b[1;33m.\u001b[0m\u001b[0mread\u001b[0m\u001b[1;33m(\u001b[0m\u001b[1;33m)\u001b[0m\u001b[1;33m\u001b[0m\u001b[1;33m\u001b[0m\u001b[0m\n",
      "\u001b[0m\u001b[1;32m----> 5 \u001b[1;33m    \u001b[0mkey\u001b[0m\u001b[1;33m\u001b[0m\u001b[1;33m\u001b[0m\u001b[0m\n",
      "\u001b[0m\u001b[1;32m      6 \u001b[1;33m\u001b[0mprint\u001b[0m\u001b[1;33m(\u001b[0m\u001b[1;34m'FILE:'\u001b[0m\u001b[1;33m)\u001b[0m\u001b[1;33m\u001b[0m\u001b[1;33m\u001b[0m\u001b[0m\n",
      "\u001b[0m\u001b[1;32m      7 \u001b[1;33m\u001b[0mprint\u001b[0m\u001b[1;33m(\u001b[0m\u001b[0mbody\u001b[0m\u001b[1;33m)\u001b[0m\u001b[1;33m\u001b[0m\u001b[1;33m\u001b[0m\u001b[0m\n",
      "\u001b[0m\n",
      "ipdb> body\n",
      "'DEBUG:root:This message should go to the log file\\nDEBUG:MyLogger:i = 0\\nDEBUG:MyLogger:i = 1\\nDEBUG:MyLogger:i = 2\\nDEBUG:MyLogger:i = 3\\nDEBUG:MyLogger:i = 4\\nDEBUG:MyLogger:i = 5\\nDEBUG:MyLogger:i = 6\\nDEBUG:MyLogger:i = 7\\nDEBUG:MyLogger:i = 8\\nDEBUG:MyLogger:i = 9\\nDEBUG:MyLogger:i = 10\\nDEBUG:MyLogger:i = 11\\nDEBUG:MyLogger:i = 12\\nDEBUG:MyLogger:i = 13\\nDEBUG:MyLogger:i = 14\\nDEBUG:MyLogger:i = 15\\nDEBUG:MyLogger:i = 16\\nDEBUG:MyLogger:i = 17\\nDEBUG:MyLogger:i = 18\\nDEBUG:MyLogger:i = 19\\nDEBUG:root:This is a debug message\\nINFO:root:This is an info message\\nWARNING:root:This is a warning message\\nERROR:root:This is an error message\\nCRITICAL:root:This is a critical error message\\nDEBUG:root:This is a debug message\\nINFO:root:This is an info message\\nWARNING:root:This is a warning message\\nERROR:root:This is an error message\\nCRITICAL:root:This is a critical error message\\n'\n",
      "ipdb> q\n"
     ]
    }
   ],
   "source": [
    "%debug"
   ]
  },
  {
   "cell_type": "code",
   "execution_count": null,
   "metadata": {},
   "outputs": [],
   "source": []
  }
 ],
 "metadata": {
  "kernelspec": {
   "display_name": "Python (MLAI)",
   "language": "python",
   "name": "mlai"
  },
  "language_info": {
   "codemirror_mode": {
    "name": "ipython",
    "version": 3
   },
   "file_extension": ".py",
   "mimetype": "text/x-python",
   "name": "python",
   "nbconvert_exporter": "python",
   "pygments_lexer": "ipython3",
   "version": "3.6.8"
  }
 },
 "nbformat": 4,
 "nbformat_minor": 2
}
