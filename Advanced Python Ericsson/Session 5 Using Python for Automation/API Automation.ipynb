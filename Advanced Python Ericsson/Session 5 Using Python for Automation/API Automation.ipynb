{
 "cells": [
  {
   "cell_type": "code",
   "execution_count": 1,
   "metadata": {},
   "outputs": [
    {
     "name": "stdout",
     "output_type": "stream",
     "text": [
      "Requirement already satisfied: requests in c:\\users\\egokkul\\appdata\\local\\continuum\\anaconda3\\lib\\site-packages (2.21.0)\n",
      "Requirement already satisfied: idna<2.9,>=2.5 in c:\\users\\egokkul\\appdata\\local\\continuum\\anaconda3\\lib\\site-packages (from requests) (2.8)\n",
      "Requirement already satisfied: certifi>=2017.4.17 in c:\\users\\egokkul\\appdata\\local\\continuum\\anaconda3\\lib\\site-packages (from requests) (2019.3.9)\n",
      "Requirement already satisfied: urllib3<1.25,>=1.21.1 in c:\\users\\egokkul\\appdata\\local\\continuum\\anaconda3\\lib\\site-packages (from requests) (1.24.1)\n",
      "Requirement already satisfied: chardet<3.1.0,>=3.0.2 in c:\\users\\egokkul\\appdata\\local\\continuum\\anaconda3\\lib\\site-packages (from requests) (3.0.4)\n"
     ]
    }
   ],
   "source": [
    "!pip install requests"
   ]
  },
  {
   "cell_type": "code",
   "execution_count": 8,
   "metadata": {},
   "outputs": [],
   "source": [
    "# imported the requests library \n",
    "import requests \n",
    "image_url = \"https://www.python.org/static/community_logos/python-logo-master-v3-TM.png\"\n",
    "  \n",
    "# URL of the image to be downloaded is defined as image_url \n",
    "r = requests.get(image_url) # create HTTP response object \n",
    "  \n",
    "# send a HTTP request to the server and save \n",
    "# the HTTP response in a response object called r \n",
    "with open(\"python_logo.png\",'wb') as f: \n",
    "  \n",
    "    # Saving received content as a png file in \n",
    "    # binary format \n",
    "  \n",
    "    # write the contents of the response (r.content) \n",
    "    # to a new file in binary mode. \n",
    "    f.write(r.content) "
   ]
  },
  {
   "cell_type": "code",
   "execution_count": 9,
   "metadata": {},
   "outputs": [],
   "source": [
    "# for Large Files\n",
    "\n",
    "import requests \n",
    "file_url = \"http://codex.cs.yale.edu/avi/db-book/db4/slide-dir/ch1-2.pdf\"\n",
    "  \n",
    "r = requests.get(file_url, stream = True) \n",
    "  \n",
    "with open(\"python.pdf\",\"wb\") as pdf: \n",
    "    for chunk in r.iter_content(chunk_size=1024): \n",
    "  \n",
    "         # writing one chunk at a time to pdf file \n",
    "         if chunk: \n",
    "             pdf.write(chunk) "
   ]
  },
  {
   "cell_type": "code",
   "execution_count": 8,
   "metadata": {},
   "outputs": [
    {
     "name": "stdout",
     "output_type": "stream",
     "text": [
      "Collecting paramiko\n",
      "  Downloading https://files.pythonhosted.org/packages/cf/ae/94e70d49044ccc234bfdba20114fa947d7ba6eb68a2e452d89b920e62227/paramiko-2.4.2-py2.py3-none-any.whl (193kB)\n",
      "Collecting pynacl>=1.0.1 (from paramiko)\n",
      "  Downloading https://files.pythonhosted.org/packages/fc/e7/179847c0dce637c59cea416c75b8de1ec1e862358c7369ad99c1fad00158/PyNaCl-1.3.0-cp37-cp37m-win_amd64.whl (188kB)\n",
      "Requirement already satisfied: cryptography>=1.5 in c:\\users\\egokkul\\appdata\\local\\continuum\\anaconda3\\lib\\site-packages (from paramiko) (2.6.1)\n",
      "Collecting pyasn1>=0.1.7 (from paramiko)\n",
      "  Downloading https://files.pythonhosted.org/packages/7b/7c/c9386b82a25115cccf1903441bba3cbadcfae7b678a20167347fa8ded34c/pyasn1-0.4.5-py2.py3-none-any.whl (73kB)\n",
      "Collecting bcrypt>=3.1.3 (from paramiko)\n",
      "  Downloading https://files.pythonhosted.org/packages/09/91/1b9e566c9aafe40eb89b31a7d322c7c070a3249bd2f3e50c8828fe4418d7/bcrypt-3.1.6-cp37-cp37m-win_amd64.whl\n",
      "Requirement already satisfied: six in c:\\users\\egokkul\\appdata\\local\\continuum\\anaconda3\\lib\\site-packages (from pynacl>=1.0.1->paramiko) (1.12.0)\n",
      "Requirement already satisfied: cffi>=1.4.1 in c:\\users\\egokkul\\appdata\\local\\continuum\\anaconda3\\lib\\site-packages (from pynacl>=1.0.1->paramiko) (1.12.2)\n",
      "Requirement already satisfied: asn1crypto>=0.21.0 in c:\\users\\egokkul\\appdata\\local\\continuum\\anaconda3\\lib\\site-packages (from cryptography>=1.5->paramiko) (0.24.0)\n",
      "Requirement already satisfied: pycparser in c:\\users\\egokkul\\appdata\\local\\continuum\\anaconda3\\lib\\site-packages (from cffi>=1.4.1->pynacl>=1.0.1->paramiko) (2.19)\n",
      "Installing collected packages: pynacl, pyasn1, bcrypt, paramiko\n",
      "Successfully installed bcrypt-3.1.6 paramiko-2.4.2 pyasn1-0.4.5 pynacl-1.3.0\n"
     ]
    }
   ],
   "source": [
    "!pip install paramiko"
   ]
  },
  {
   "cell_type": "code",
   "execution_count": 11,
   "metadata": {},
   "outputs": [
    {
     "name": "stdout",
     "output_type": "stream",
     "text": [
      "['104.211.209.153', 'gokkulnath', '', 'C:\\\\Users\\\\egokkul\\\\Downloads\\\\Misc\\\\Fastai-Windows.pem']\n",
      "Sucess\n",
      "[('104.211.209.153', 'Sucess')]\n",
      "Done Executing\n"
     ]
    }
   ],
   "source": [
    "import paramiko\n",
    "import csv\n",
    "import sys\n",
    "\n",
    "def Check_ssh(hostname,username,password=None,key_path_pem=None):\n",
    "    ssh = paramiko.SSHClient()\n",
    "    ssh.set_missing_host_key_policy(paramiko.AutoAddPolicy()) # Bypass Add to Local Host\n",
    "    try:\n",
    "        if(ssh.connect(hostname, username=username,password=password,key_filename=key_path_pem)==None):\n",
    "            Status='Sucess'\n",
    "            print('Sucess')\n",
    "    except Exception as inst:\n",
    "        Status='Fail'\n",
    "        print(inst)\n",
    "    finally:\n",
    "        ssh.close()\n",
    "    return Status\n",
    "\n",
    "\n",
    "\n",
    "with open('hosts.txt', newline='') as File:  \n",
    "    reader = csv.reader(File)\n",
    "    i=0\n",
    "    status=[]\n",
    "    hosts=[]\n",
    "    for row in reader:\n",
    "        print(row)\n",
    "        status.append(Check_ssh(row[0],username=row[1],key_path_pem=row[3]))\n",
    "        hosts.append(row[0])\n",
    "        i=+1\n",
    "        \n",
    "Result=list(zip(hosts,status))\n",
    "print(Result)\n",
    "     \n",
    "print(\"Done Executing\")"
   ]
  },
  {
   "cell_type": "code",
   "execution_count": null,
   "metadata": {},
   "outputs": [],
   "source": []
  }
 ],
 "metadata": {
  "kernelspec": {
   "display_name": "Python 3",
   "language": "python",
   "name": "python3"
  },
  "language_info": {
   "codemirror_mode": {
    "name": "ipython",
    "version": 3
   },
   "file_extension": ".py",
   "mimetype": "text/x-python",
   "name": "python",
   "nbconvert_exporter": "python",
   "pygments_lexer": "ipython3",
   "version": "3.7.3"
  }
 },
 "nbformat": 4,
 "nbformat_minor": 2
}
