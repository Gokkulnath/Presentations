{
 "cells": [
  {
   "cell_type": "code",
   "execution_count": null,
   "metadata": {},
   "outputs": [],
   "source": [
    "!pip install python-telegram-bot --upgrade\n",
    "!pip install requests\n"
   ]
  },
  {
   "cell_type": "code",
   "execution_count": 2,
   "metadata": {},
   "outputs": [
    {
     "name": "stdout",
     "output_type": "stream",
     "text": [
      "{'api_key': '569727815:AAFxFoPLHQDr1PHdZyBEOUPsyvrr0-NU0AY', 'chat_id': '588798467'}\n"
     ]
    }
   ],
   "source": [
    "\n",
    "import telegram \n",
    "import json\n",
    "creds=json.loads(open('telegram.json','r').read())\n",
    "print(creds)\n",
    "\n",
    "\n",
    "credentials={\"api_key\": \"569727815:AAFxFoPLHQDr1PHdZyBEOUPsyvrr0-NU0AY\",\n",
    " \"chat_id\": \"588798467\"}\n"
   ]
  },
  {
   "cell_type": "code",
   "execution_count": null,
   "metadata": {},
   "outputs": [],
   "source": [
    "import telegram\n",
    "import json\n",
    "import os\n",
    "import datetime\n",
    "\n",
    "\n",
    "def notify_me(message=\"Job's done!\"):\n",
    "    filename = os.environ['HOMEPATH'] + '/telegram-works/telegram.json'\n",
    "    with open(filename) as f:\n",
    "        json_blob = f.read()\n",
    "        credentials = json.loads(json_blob)\n",
    "\n",
    "    # Initialize bot\n",
    "    bot = telegram.Bot(token=credentials['api_key'])\n",
    "\n",
    "    # Send message\n",
    "    bot.send_message(chat_id=credentials['chat_id'], text=message)"
   ]
  },
  {
   "cell_type": "code",
   "execution_count": null,
   "metadata": {},
   "outputs": [],
   "source": [
    "notify_me('test msg')"
   ]
  },
  {
   "cell_type": "code",
   "execution_count": 3,
   "metadata": {},
   "outputs": [],
   "source": [
    "import requests\n",
    "def get_updates(api_key):\n",
    "    r= requests.get(f'https://api.telegram.org/bot{api_key}/getUpdates')\n",
    "    print(r,r.content)\n",
    "    return r\n",
    "    "
   ]
  },
  {
   "cell_type": "code",
   "execution_count": 4,
   "metadata": {},
   "outputs": [
    {
     "name": "stdout",
     "output_type": "stream",
     "text": [
      "<Response [200]> b'{\"ok\":true,\"result\":[{\"update_id\":261596973,\\n\"message\":{\"message_id\":427,\"from\":{\"id\":588798467,\"is_bot\":false,\"first_name\":\"Gokkulnath\",\"last_name\":\"TS\",\"username\":\"Gokkulnath\",\"language_code\":\"en\"},\"chat\":{\"id\":588798467,\"first_name\":\"Gokkulnath\",\"last_name\":\"TS\",\"username\":\"Gokkulnath\",\"type\":\"private\"},\"date\":1558067576,\"text\":\"/horoscope\",\"entities\":[{\"offset\":0,\"length\":10,\"type\":\"bot_command\"}]}}]}'\n"
     ]
    },
    {
     "data": {
      "text/plain": [
       "<Response [200]>"
      ]
     },
     "execution_count": 4,
     "metadata": {},
     "output_type": "execute_result"
    }
   ],
   "source": [
    "get_updates(credentials[\"api_key\"])"
   ]
  },
  {
   "cell_type": "code",
   "execution_count": null,
   "metadata": {},
   "outputs": [],
   "source": [
    "#!/home/pi/py3/bin/python\n",
    "import telegram \n",
    "import json\n",
    "creds=json.loads(open('telegram.json','r').read())\n",
    "#print(creds)\n",
    "from telegram.ext import Updater, CommandHandler, MessageHandler, Filters\n",
    "import logging\n",
    "import datetime\n",
    "import requests\n",
    "from lxml import html\n",
    "import subprocess\n",
    "\n",
    "# def today_horoscope(bot, update):\n",
    "#     URL='https://www.ganeshaspeaks.com/horoscopes/daily-horoscope/{}/'.format(sign)\n",
    "#     daily_preds='//p[@class=\"margin-top-xs-0\"]/text()'\n",
    "#     pageContent=requests.get(URL)\n",
    "#     tree = html.fromstring(pageContent.content)\n",
    "#     #print(tree.xpath(daily_preds)[0].strip())\n",
    "#     update.message.reply_text(tree.xpath(daily_preds)[0].strip())\n",
    "\n",
    "def get_port80URL(bot,update):\n",
    "    reply=open('/home/pi/url.txt','r').read()\n",
    "    update.message.reply_text(reply)\n",
    "\n",
    "#def execute_cmd(bot,update,args):\n",
    "#    chat_id =  update.message.chat_id\n",
    "#    try:\n",
    "#        cmd =str(args[0])\n",
    "#        host = subprocess.Popen([cmd], stdout = subprocess.PIPE).communicate()[0]\n",
    "#        update.message.reply_text('Command Output {} : '.format(host))\n",
    "#    except (IndexError, ValueError):\n",
    "#        update.message.reply_text('Usage: /cmd  <cmd>. ')\n",
    "\n",
    "\n",
    "def today_horoscope(bot, update, args):\n",
    "    \"\"\"Get Horoscope of the day. Pass Horoscope sign as argument.Usage: /horoscope <sign>\"\"\"\n",
    "    signs=('Sagittarius', 'Taurus', 'Pisces', 'Cancer', 'Virgo', 'Capricorn', 'Aquarius', 'Libra', 'Gemini', 'Leo', 'Aries', 'Scorpio')\n",
    "    chat_id = update.message.chat_id\n",
    "    try:\n",
    "        # args[0] should contain the time for the timer in seconds\n",
    "        sign = str(args[0])\n",
    "        \n",
    "        if sign.title() not in signs:\n",
    "            update.message.reply_text('Sorry! Please Enter a valid Horoscope Sign!. {}'.format(signs))\n",
    "            return\n",
    "        \n",
    "        URL='https://www.ganeshaspeaks.com/horoscopes/daily-horoscope/{}/'.format(sign)\n",
    "        daily_preds='//p[@class=\"margin-top-xs-0\"]/text()'\n",
    "        pageContent=requests.get(URL)\n",
    "        tree = html.fromstring(pageContent.content)\n",
    "        #print(tree.xpath(daily_preds)[0].strip())\n",
    "        update.message.reply_text('Horoscope for {} : '.format(sign)+tree.xpath(daily_preds)[0].strip())\n",
    "     \n",
    "    except (IndexError, ValueError):\n",
    "        update.message.reply_text('Usage: /horoscope <sign>. Valid signs {}'.format(signs))\n",
    "\n",
    "def get_quote(bot, update):\n",
    "    import random\n",
    "    URL='https://www.brainyquote.com/topics/daily'\n",
    "    quote='//a[@title=\"view quote\"]/text()'\n",
    "    author='//a[@title=\"view author\"]/text()'\n",
    "    pageContent=requests.get(URL)\n",
    "    tree = html.fromstring(pageContent.content)\n",
    "    quotes=tree.xpath(quote)\n",
    "    authors=tree.xpath(author)\n",
    "    rn=random.randint(0,len(quotes))\n",
    "    reply = quotes[rn].strip()+' - '+authors[rn].strip()\n",
    "    update.message.reply_text(reply)\n",
    "    \n",
    "# Enable logging\n",
    "logging.basicConfig(format='%(asctime)s - %(name)s - %(levelname)s - %(message)s',\n",
    "                    level=logging.INFO)\n",
    "\n",
    "logger = logging.getLogger(__name__)\n",
    "\n",
    "\n",
    "# Define a few command handlers. These usually take the two arguments bot and\n",
    "# update. Error handlers also receive the raised TelegramError object in error.\n",
    "def start(bot, update):\n",
    "    \"\"\"Send a message when the command /start is issued.\"\"\"\n",
    "    update.message.reply_text('Hi!')\n",
    "\n",
    "\n",
    "def help(bot, update):\n",
    "    \"\"\"Send a message when the command /help is issued.\"\"\"\n",
    "    update.message.reply_text('Help!')\n",
    "\n",
    "\n",
    "def echo(bot, update):\n",
    "    \"\"\"Echo the user message.\"\"\"\n",
    "    update.message.reply_text(update.message.text)\n",
    "\n",
    "def time(bot,update):\n",
    "    \"\"\" Sends the Current Time\"\"\"\n",
    "    update.message.reply_text(str(datetime.datetime.now()))\n",
    "\n",
    "def error(bot, update, error):\n",
    "    \"\"\"Log Errors caused by Updates.\"\"\"\n",
    "    logger.warning('Update \"%s\" caused error \"%s\"', update, error)\n",
    "\n",
    "\n",
    "def main():\n",
    "    \"\"\"Start the bot.\"\"\"\n",
    "    # Create the EventHandler and pass it your bot's token.\n",
    "    updater = Updater(creds['api_key'])\n",
    "\n",
    "    # Get the dispatcher to register handlers\n",
    "    dp = updater.dispatcher\n",
    "\n",
    "    # on different commands - answer in Telegram\n",
    "    dp.add_handler(CommandHandler(\"start\", start))\n",
    "    dp.add_handler(CommandHandler(\"help\", help))\n",
    "    dp.add_handler(CommandHandler(\"time\", time))\n",
    "    \n",
    "    #daily_horoscope\n",
    "    dp.add_handler(CommandHandler(\"horoscope\", today_horoscope,pass_args=True))\n",
    "    dp.add_handler(CommandHandler(\"quote\", get_quote))\n",
    "    dp.add_handler(CommandHandler(\"url\",get_port80URL ))\n",
    "#    dp.add_handler(CommandHandler(\"cmd\",execute_cmd))\n",
    "\n",
    "    # on noncommand i.e message - echo the message on Telegram\n",
    "    dp.add_handler(MessageHandler(Filters.text, echo))\n",
    "\n",
    "    # log all errors\n",
    "    dp.add_error_handler(error)\n",
    "\n",
    "    # Start the Bot\n",
    "    updater.start_polling()\n",
    "\n",
    "    # Run the bot until you press Ctrl-C or the process receives SIGINT,\n",
    "    # SIGTERM or SIGABRT. This should be used most of the time, since\n",
    "    # start_polling() is non-blocking and will stop the bot gracefully.\n",
    "    updater.idle()\n",
    "\n",
    "main()\n"
   ]
  },
  {
   "cell_type": "code",
   "execution_count": null,
   "metadata": {},
   "outputs": [],
   "source": []
  }
 ],
 "metadata": {
  "kernelspec": {
   "display_name": "Python (MLAI)",
   "language": "python",
   "name": "mlai"
  },
  "language_info": {
   "codemirror_mode": {
    "name": "ipython",
    "version": 3
   },
   "file_extension": ".py",
   "mimetype": "text/x-python",
   "name": "python",
   "nbconvert_exporter": "python",
   "pygments_lexer": "ipython3",
   "version": "3.6.8"
  }
 },
 "nbformat": 4,
 "nbformat_minor": 2
}
