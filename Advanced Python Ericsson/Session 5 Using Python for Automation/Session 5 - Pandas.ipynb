{
 "cells": [
  {
   "cell_type": "code",
   "execution_count": 1,
   "metadata": {},
   "outputs": [
    {
     "name": "stdout",
     "output_type": "stream",
     "text": [
      "Requirement already satisfied: pandas in c:\\users\\egokkul\\appdata\\local\\continuum\\anaconda3\\lib\\site-packages (0.24.2)\n",
      "Requirement already satisfied: numpy>=1.12.0 in c:\\users\\egokkul\\appdata\\local\\continuum\\anaconda3\\lib\\site-packages (from pandas) (1.16.2)\n",
      "Requirement already satisfied: pytz>=2011k in c:\\users\\egokkul\\appdata\\local\\continuum\\anaconda3\\lib\\site-packages (from pandas) (2018.9)\n",
      "Requirement already satisfied: python-dateutil>=2.5.0 in c:\\users\\egokkul\\appdata\\local\\continuum\\anaconda3\\lib\\site-packages (from pandas) (2.8.0)\n",
      "Requirement already satisfied: six>=1.5 in c:\\users\\egokkul\\appdata\\local\\continuum\\anaconda3\\lib\\site-packages (from python-dateutil>=2.5.0->pandas) (1.12.0)\n"
     ]
    }
   ],
   "source": [
    "!pip install pandas"
   ]
  },
  {
   "cell_type": "markdown",
   "metadata": {},
   "source": [
    "# Series"
   ]
  },
  {
   "cell_type": "code",
   "execution_count": 1,
   "metadata": {},
   "outputs": [
    {
     "name": "stdout",
     "output_type": "stream",
     "text": [
      "Series([], dtype: float64)\n"
     ]
    }
   ],
   "source": [
    "#import the pandas library and aliasing as pd\n",
    "import pandas as pd\n",
    "s = pd.Series()\n",
    "print(s)"
   ]
  },
  {
   "cell_type": "code",
   "execution_count": 2,
   "metadata": {},
   "outputs": [
    {
     "name": "stdout",
     "output_type": "stream",
     "text": [
      "0    a\n",
      "1    b\n",
      "2    c\n",
      "3    d\n",
      "dtype: object\n",
      "100    a\n",
      "101    b\n",
      "102    c\n",
      "103    d\n",
      "dtype: object\n"
     ]
    }
   ],
   "source": [
    "import pandas as pd\n",
    "import numpy as np\n",
    "data = np.array(['a','b','c','d'])\n",
    "s = pd.Series(data) # without Index\n",
    "print(s)\n",
    "s = pd.Series(data, index=[100,101,102,103]) # with Index\n",
    "print(s)"
   ]
  },
  {
   "cell_type": "code",
   "execution_count": 5,
   "metadata": {},
   "outputs": [
    {
     "name": "stdout",
     "output_type": "stream",
     "text": [
      "['a' 'b' 'c' 'd']\n"
     ]
    },
    {
     "data": {
      "text/plain": [
       "Int64Index([100, 101, 102, 103], dtype='int64')"
      ]
     },
     "execution_count": 5,
     "metadata": {},
     "output_type": "execute_result"
    }
   ],
   "source": [
    "print(s.values)\n",
    "s.index\n"
   ]
  },
  {
   "cell_type": "code",
   "execution_count": 7,
   "metadata": {},
   "outputs": [
    {
     "name": "stdout",
     "output_type": "stream",
     "text": [
      "0    5\n",
      "1    5\n",
      "2    5\n",
      "3    5\n",
      "dtype: int64\n"
     ]
    }
   ],
   "source": [
    "import pandas as pd\n",
    "s = pd.Series(5, index=[0, 1, 2, 3]) # index must required\n",
    "print(s) # Scalar will be repeated to match the length"
   ]
  },
  {
   "cell_type": "code",
   "execution_count": 15,
   "metadata": {
    "scrolled": true
   },
   "outputs": [
    {
     "name": "stdout",
     "output_type": "stream",
     "text": [
      "101    1\n",
      "102    2\n",
      "103    3\n",
      "104    4\n",
      "105    5\n",
      "dtype: int64\n"
     ]
    }
   ],
   "source": [
    "# Series using list\n",
    "import pandas as pd\n",
    "lst = [1,2,3,4,5]\n",
    "data = pd.Series( lst ) # without Index\n",
    "data = pd.Series( lst, index=[101, 102, 103 , 104 , 105]) # with index\n",
    "print(data)"
   ]
  },
  {
   "cell_type": "code",
   "execution_count": 20,
   "metadata": {},
   "outputs": [
    {
     "name": "stdout",
     "output_type": "stream",
     "text": [
      "a    0.0\n",
      "b    1.0\n",
      "c    2.0\n",
      "dtype: float64\n",
      "b    1.0\n",
      "c    2.0\n",
      "d    NaN\n",
      "a    0.0\n",
      "dtype: float64\n"
     ]
    }
   ],
   "source": [
    "# Series using dict\n",
    "# A dict can be passed as input and if no index is specified, then the dictionary keys are\n",
    "# taken in a sorted order to construct index.\n",
    "# › If index is passed, the values in data corresponding to the labels in the index will be\n",
    "# pulled out.\n",
    "import pandas as pd\n",
    "data = {'a' : 0., 'b' : 1., 'c' : 2.}\n",
    "s = pd.Series(data) # without Index\n",
    "print ( s )\n",
    "s = pd.Series(data, index=['b','c','d','a'])\n",
    "print ( s ) # with Index, if don't match with keys than hold Nan "
   ]
  },
  {
   "cell_type": "code",
   "execution_count": 14,
   "metadata": {},
   "outputs": [
    {
     "name": "stdout",
     "output_type": "stream",
     "text": [
      "1\n",
      "a    1\n",
      "b    2\n",
      "c    3\n",
      "dtype: int64\n",
      "c    3\n",
      "d    4\n",
      "e    5\n",
      "dtype: int64\n"
     ]
    }
   ],
   "source": [
    "# Access elementsfrom Series\n",
    "# Data in the series can be accessed similar to that in an ndarray.\n",
    "import pandas as pd\n",
    "s = pd.Series([1,2,3,4,5],index = ['a','b','c','d','e'])\n",
    "# retrieve the first element\n",
    "print (s[0] ) # 1\n",
    "# using Slicing first 3 elements\n",
    "print (s[:3])\n",
    "# using Slicing last 3 elements\n",
    "print (s[-3:])"
   ]
  },
  {
   "cell_type": "code",
   "execution_count": 11,
   "metadata": {
    "scrolled": true
   },
   "outputs": [
    {
     "name": "stdout",
     "output_type": "stream",
     "text": [
      "2\n"
     ]
    }
   ],
   "source": [
    "# Access data using label\n",
    "# A Series is like a fixed-size dict in that you can get and set values by index\n",
    "# label.\n",
    "import pandas as pd\n",
    "s = pd.Series([1,2,3,4,5], index = ['a','b','c','d','e']) # index can be a string as well\n",
    "# retrieve the single element\n",
    "print(s['b']) # 1\n"
   ]
  },
  {
   "cell_type": "code",
   "execution_count": 12,
   "metadata": {},
   "outputs": [
    {
     "name": "stdout",
     "output_type": "stream",
     "text": [
      "a    1\n",
      "b    2\n",
      "e    5\n",
      "dtype: int64\n"
     ]
    },
    {
     "ename": "KeyError",
     "evalue": "'h'",
     "output_type": "error",
     "traceback": [
      "\u001b[1;31m---------------------------------------------------------------------------\u001b[0m",
      "\u001b[1;31mTypeError\u001b[0m                                 Traceback (most recent call last)",
      "\u001b[1;32m~\\AppData\\Local\\Continuum\\anaconda3\\lib\\site-packages\\pandas\\core\\indexes\\base.py\u001b[0m in \u001b[0;36mget_value\u001b[1;34m(self, series, key)\u001b[0m\n\u001b[0;32m   4380\u001b[0m             \u001b[1;32mtry\u001b[0m\u001b[1;33m:\u001b[0m\u001b[1;33m\u001b[0m\u001b[1;33m\u001b[0m\u001b[0m\n\u001b[1;32m-> 4381\u001b[1;33m                 \u001b[1;32mreturn\u001b[0m \u001b[0mlibindex\u001b[0m\u001b[1;33m.\u001b[0m\u001b[0mget_value_box\u001b[0m\u001b[1;33m(\u001b[0m\u001b[0ms\u001b[0m\u001b[1;33m,\u001b[0m \u001b[0mkey\u001b[0m\u001b[1;33m)\u001b[0m\u001b[1;33m\u001b[0m\u001b[1;33m\u001b[0m\u001b[0m\n\u001b[0m\u001b[0;32m   4382\u001b[0m             \u001b[1;32mexcept\u001b[0m \u001b[0mIndexError\u001b[0m\u001b[1;33m:\u001b[0m\u001b[1;33m\u001b[0m\u001b[1;33m\u001b[0m\u001b[0m\n",
      "\u001b[1;32mpandas/_libs/index.pyx\u001b[0m in \u001b[0;36mpandas._libs.index.get_value_box\u001b[1;34m()\u001b[0m\n",
      "\u001b[1;32mpandas/_libs/index.pyx\u001b[0m in \u001b[0;36mpandas._libs.index.get_value_at\u001b[1;34m()\u001b[0m\n",
      "\u001b[1;32mpandas/_libs/util.pxd\u001b[0m in \u001b[0;36mpandas._libs.util.get_value_at\u001b[1;34m()\u001b[0m\n",
      "\u001b[1;32mpandas/_libs/util.pxd\u001b[0m in \u001b[0;36mpandas._libs.util.validate_indexer\u001b[1;34m()\u001b[0m\n",
      "\u001b[1;31mTypeError\u001b[0m: 'str' object cannot be interpreted as an integer",
      "\nDuring handling of the above exception, another exception occurred:\n",
      "\u001b[1;31mKeyError\u001b[0m                                  Traceback (most recent call last)",
      "\u001b[1;32m<ipython-input-12-899e8d055c99>\u001b[0m in \u001b[0;36m<module>\u001b[1;34m\u001b[0m\n\u001b[0;32m      2\u001b[0m \u001b[0mprint\u001b[0m\u001b[1;33m(\u001b[0m\u001b[0ms\u001b[0m\u001b[1;33m[\u001b[0m\u001b[1;33m[\u001b[0m\u001b[1;34m'a'\u001b[0m\u001b[1;33m,\u001b[0m\u001b[1;34m'b'\u001b[0m\u001b[1;33m,\u001b[0m\u001b[1;34m'e'\u001b[0m\u001b[1;33m]\u001b[0m\u001b[1;33m]\u001b[0m\u001b[1;33m)\u001b[0m\u001b[1;33m\u001b[0m\u001b[1;33m\u001b[0m\u001b[0m\n\u001b[0;32m      3\u001b[0m \u001b[1;31m# if label is not exists than it raise an Python exception\u001b[0m\u001b[1;33m\u001b[0m\u001b[1;33m\u001b[0m\u001b[1;33m\u001b[0m\u001b[0m\n\u001b[1;32m----> 4\u001b[1;33m \u001b[0mprint\u001b[0m\u001b[1;33m(\u001b[0m\u001b[0ms\u001b[0m\u001b[1;33m[\u001b[0m\u001b[1;34m'h'\u001b[0m\u001b[1;33m]\u001b[0m\u001b[1;33m)\u001b[0m \u001b[1;31m# IndexError\u001b[0m\u001b[1;33m\u001b[0m\u001b[1;33m\u001b[0m\u001b[0m\n\u001b[0m",
      "\u001b[1;32m~\\AppData\\Local\\Continuum\\anaconda3\\lib\\site-packages\\pandas\\core\\series.py\u001b[0m in \u001b[0;36m__getitem__\u001b[1;34m(self, key)\u001b[0m\n\u001b[0;32m    866\u001b[0m         \u001b[0mkey\u001b[0m \u001b[1;33m=\u001b[0m \u001b[0mcom\u001b[0m\u001b[1;33m.\u001b[0m\u001b[0mapply_if_callable\u001b[0m\u001b[1;33m(\u001b[0m\u001b[0mkey\u001b[0m\u001b[1;33m,\u001b[0m \u001b[0mself\u001b[0m\u001b[1;33m)\u001b[0m\u001b[1;33m\u001b[0m\u001b[1;33m\u001b[0m\u001b[0m\n\u001b[0;32m    867\u001b[0m         \u001b[1;32mtry\u001b[0m\u001b[1;33m:\u001b[0m\u001b[1;33m\u001b[0m\u001b[1;33m\u001b[0m\u001b[0m\n\u001b[1;32m--> 868\u001b[1;33m             \u001b[0mresult\u001b[0m \u001b[1;33m=\u001b[0m \u001b[0mself\u001b[0m\u001b[1;33m.\u001b[0m\u001b[0mindex\u001b[0m\u001b[1;33m.\u001b[0m\u001b[0mget_value\u001b[0m\u001b[1;33m(\u001b[0m\u001b[0mself\u001b[0m\u001b[1;33m,\u001b[0m \u001b[0mkey\u001b[0m\u001b[1;33m)\u001b[0m\u001b[1;33m\u001b[0m\u001b[1;33m\u001b[0m\u001b[0m\n\u001b[0m\u001b[0;32m    869\u001b[0m \u001b[1;33m\u001b[0m\u001b[0m\n\u001b[0;32m    870\u001b[0m             \u001b[1;32mif\u001b[0m \u001b[1;32mnot\u001b[0m \u001b[0mis_scalar\u001b[0m\u001b[1;33m(\u001b[0m\u001b[0mresult\u001b[0m\u001b[1;33m)\u001b[0m\u001b[1;33m:\u001b[0m\u001b[1;33m\u001b[0m\u001b[1;33m\u001b[0m\u001b[0m\n",
      "\u001b[1;32m~\\AppData\\Local\\Continuum\\anaconda3\\lib\\site-packages\\pandas\\core\\indexes\\base.py\u001b[0m in \u001b[0;36mget_value\u001b[1;34m(self, series, key)\u001b[0m\n\u001b[0;32m   4387\u001b[0m                     \u001b[1;32mraise\u001b[0m \u001b[0mInvalidIndexError\u001b[0m\u001b[1;33m(\u001b[0m\u001b[0mkey\u001b[0m\u001b[1;33m)\u001b[0m\u001b[1;33m\u001b[0m\u001b[1;33m\u001b[0m\u001b[0m\n\u001b[0;32m   4388\u001b[0m                 \u001b[1;32melse\u001b[0m\u001b[1;33m:\u001b[0m\u001b[1;33m\u001b[0m\u001b[1;33m\u001b[0m\u001b[0m\n\u001b[1;32m-> 4389\u001b[1;33m                     \u001b[1;32mraise\u001b[0m \u001b[0me1\u001b[0m\u001b[1;33m\u001b[0m\u001b[1;33m\u001b[0m\u001b[0m\n\u001b[0m\u001b[0;32m   4390\u001b[0m             \u001b[1;32mexcept\u001b[0m \u001b[0mException\u001b[0m\u001b[1;33m:\u001b[0m  \u001b[1;31m# pragma: no cover\u001b[0m\u001b[1;33m\u001b[0m\u001b[1;33m\u001b[0m\u001b[0m\n\u001b[0;32m   4391\u001b[0m                 \u001b[1;32mraise\u001b[0m \u001b[0me1\u001b[0m\u001b[1;33m\u001b[0m\u001b[1;33m\u001b[0m\u001b[0m\n",
      "\u001b[1;32m~\\AppData\\Local\\Continuum\\anaconda3\\lib\\site-packages\\pandas\\core\\indexes\\base.py\u001b[0m in \u001b[0;36mget_value\u001b[1;34m(self, series, key)\u001b[0m\n\u001b[0;32m   4373\u001b[0m         \u001b[1;32mtry\u001b[0m\u001b[1;33m:\u001b[0m\u001b[1;33m\u001b[0m\u001b[1;33m\u001b[0m\u001b[0m\n\u001b[0;32m   4374\u001b[0m             return self._engine.get_value(s, k,\n\u001b[1;32m-> 4375\u001b[1;33m                                           tz=getattr(series.dtype, 'tz', None))\n\u001b[0m\u001b[0;32m   4376\u001b[0m         \u001b[1;32mexcept\u001b[0m \u001b[0mKeyError\u001b[0m \u001b[1;32mas\u001b[0m \u001b[0me1\u001b[0m\u001b[1;33m:\u001b[0m\u001b[1;33m\u001b[0m\u001b[1;33m\u001b[0m\u001b[0m\n\u001b[0;32m   4377\u001b[0m             \u001b[1;32mif\u001b[0m \u001b[0mlen\u001b[0m\u001b[1;33m(\u001b[0m\u001b[0mself\u001b[0m\u001b[1;33m)\u001b[0m \u001b[1;33m>\u001b[0m \u001b[1;36m0\u001b[0m \u001b[1;32mand\u001b[0m \u001b[1;33m(\u001b[0m\u001b[0mself\u001b[0m\u001b[1;33m.\u001b[0m\u001b[0mholds_integer\u001b[0m\u001b[1;33m(\u001b[0m\u001b[1;33m)\u001b[0m \u001b[1;32mor\u001b[0m \u001b[0mself\u001b[0m\u001b[1;33m.\u001b[0m\u001b[0mis_boolean\u001b[0m\u001b[1;33m(\u001b[0m\u001b[1;33m)\u001b[0m\u001b[1;33m)\u001b[0m\u001b[1;33m:\u001b[0m\u001b[1;33m\u001b[0m\u001b[1;33m\u001b[0m\u001b[0m\n",
      "\u001b[1;32mpandas/_libs/index.pyx\u001b[0m in \u001b[0;36mpandas._libs.index.IndexEngine.get_value\u001b[1;34m()\u001b[0m\n",
      "\u001b[1;32mpandas/_libs/index.pyx\u001b[0m in \u001b[0;36mpandas._libs.index.IndexEngine.get_value\u001b[1;34m()\u001b[0m\n",
      "\u001b[1;32mpandas/_libs/index.pyx\u001b[0m in \u001b[0;36mpandas._libs.index.IndexEngine.get_loc\u001b[1;34m()\u001b[0m\n",
      "\u001b[1;32mpandas/_libs/hashtable_class_helper.pxi\u001b[0m in \u001b[0;36mpandas._libs.hashtable.PyObjectHashTable.get_item\u001b[1;34m()\u001b[0m\n",
      "\u001b[1;32mpandas/_libs/hashtable_class_helper.pxi\u001b[0m in \u001b[0;36mpandas._libs.hashtable.PyObjectHashTable.get_item\u001b[1;34m()\u001b[0m\n",
      "\u001b[1;31mKeyError\u001b[0m: 'h'"
     ]
    }
   ],
   "source": [
    "# retrieving multiple elements\n",
    "print(s[['a','b','e']])\n",
    "# if label is not exists than it raise an Python exception\n",
    "print(s['h']) # IndexError"
   ]
  },
  {
   "cell_type": "code",
   "execution_count": 13,
   "metadata": {
    "scrolled": true
   },
   "outputs": [
    {
     "name": "stdout",
     "output_type": "stream",
     "text": [
      "1\n",
      "2\n",
      "3\n",
      "4\n",
      "5\n"
     ]
    }
   ],
   "source": [
    "# Iterate over series\n",
    "# Traversing on Series Elements using python loop.\n",
    "import pandas as pd\n",
    "data = pd.Series([1,2,3,4,5], index = ['a','b','c','d','e']) # string as index\n",
    "# traversing element wise using python loop\n",
    "for i in data:\n",
    "    print(i)"
   ]
  },
  {
   "cell_type": "code",
   "execution_count": 14,
   "metadata": {},
   "outputs": [
    {
     "name": "stdout",
     "output_type": "stream",
     "text": [
      "Data in DICT formate :  {0: 1.0, 1: 0.0, 2: 2.0, 3: 3.0, 4: 4.0, 5: 0.0, 6: 5.0, 7: 5.0, 8: 8.0, 9: 9.0, 10: 0.0, 11: 0.0, 12: 3.0, 13: 2.0, 14: 4.0, 15: 5.0, 16: 6.0, 17: 3.0, 18: 2.0, 19: 6.0, 20: nan, 21: 7.0}\n",
      "Data in LIST formattole :  [1.0, 0.0, 2.0, 3.0, 4.0, 0.0, 5.0, 5.0, 8.0, 9.0, 0.0, 0.0, 3.0, 2.0, 4.0, 5.0, 6.0, 3.0, 2.0, 6.0, nan, 7.0]\n",
      "Data in JSON formate :  {\"0\":1.0,\"1\":0.0,\"2\":2.0,\"3\":3.0,\"4\":4.0,\"5\":0.0,\"6\":5.0,\"7\":5.0,\"8\":8.0,\"9\":9.0,\"10\":0.0,\"11\":0.0,\"12\":3.0,\"13\":2.0,\"14\":4.0,\"15\":5.0,\"16\":6.0,\"17\":3.0,\"18\":2.0,\"19\":6.0,\"20\":null,\"21\":7.0}\n",
      "Data in CSV formate :  0,1.0\n",
      "1,0.0\n",
      "2,2.0\n",
      "3,3.0\n",
      "4,4.0\n",
      "5,0.0\n",
      "6,5.0\n",
      "7,5.0\n",
      "8,8.0\n",
      "9,9.0\n",
      "10,0.0\n",
      "11,0.0\n",
      "12,3.0\n",
      "13,2.0\n",
      "14,4.0\n",
      "15,5.0\n",
      "16,6.0\n",
      "17,3.0\n",
      "18,2.0\n",
      "19,6.0\n",
      "20,\n",
      "21,7.0\n",
      "\n"
     ]
    },
    {
     "name": "stderr",
     "output_type": "stream",
     "text": [
      "C:\\Users\\egokkul\\AppData\\Local\\Continuum\\anaconda3\\lib\\site-packages\\ipykernel_launcher.py:9: FutureWarning: The signature of `Series.to_csv` was aligned to that of `DataFrame.to_csv`, and argument 'header' will change its default value from False to True: please pass an explicit value to suppress this warning.\n",
      "  if __name__ == '__main__':\n"
     ]
    }
   ],
   "source": [
    "# Different formation of data\n",
    "# Different type of data using Series\n",
    "import pandas as pd\n",
    "import numpy as np\n",
    "data = pd.Series([1,0,2,3,4,0,5,5,8,9,0,0,3,2,4,5,6,3,2,6,np.nan,7]) #\n",
    "print( \"Data in DICT formate : \", data.to_dict())\n",
    "print( \"Data in LIST formattole : \", data.tolist())\n",
    "print( \"Data in JSON formate : \", data.to_json())\n",
    "print( \"Data in CSV formate : \", data.to_csv())\n"
   ]
  },
  {
   "cell_type": "code",
   "execution_count": 15,
   "metadata": {},
   "outputs": [
    {
     "name": "stdout",
     "output_type": "stream",
     "text": [
      "Locations of Non-Zero Elements :  (array([ 0,  2,  3,  4,  6,  7,  8,  9, 12, 13, 14, 15, 16, 17, 18, 19, 20,\n",
      "       21], dtype=int64),)\n",
      "Unique Elements :  [ 1.  0.  2.  3.  4.  5.  8.  9.  6. nan  7.]\n"
     ]
    },
    {
     "name": "stderr",
     "output_type": "stream",
     "text": [
      "C:\\Users\\egokkul\\AppData\\Local\\Continuum\\anaconda3\\lib\\site-packages\\ipykernel_launcher.py:7: FutureWarning: Series.nonzero() is deprecated and will be removed in a future version.Use Series.to_numpy().nonzero() instead\n",
      "  import sys\n"
     ]
    }
   ],
   "source": [
    "#Filter and change\n",
    "# Dealing with null and other filters\n",
    "import pandas as pd\n",
    "import numpy as np\n",
    "data = pd.Series([1,0,2,3,4,0,5,5,8,9,0,0,3,2,4,5,6,3,2,6,np.nan,7]) #\n",
    "\n",
    "print( \"Locations of Non-Zero Elements : \", data.nonzero())\n",
    "print( \"Unique Elements : \", data.unique())\n"
   ]
  },
  {
   "cell_type": "code",
   "execution_count": 16,
   "metadata": {},
   "outputs": [
    {
     "name": "stdout",
     "output_type": "stream",
     "text": [
      "Updated data :  0      1.0\n",
      "1      0.0\n",
      "2      2.0\n",
      "3      3.0\n",
      "4      4.0\n",
      "5      0.0\n",
      "6     55.0\n",
      "7     55.0\n",
      "8      8.0\n",
      "9      9.0\n",
      "10     0.0\n",
      "11     0.0\n",
      "12     3.0\n",
      "13     2.0\n",
      "14     4.0\n",
      "15    55.0\n",
      "16     6.0\n",
      "17     3.0\n",
      "18     2.0\n",
      "19     6.0\n",
      "20     NaN\n",
      "21     7.0\n",
      "dtype: float64\n",
      "Replace NAN to value :  0        1.0\n",
      "1        0.0\n",
      "2        2.0\n",
      "3        3.0\n",
      "4        4.0\n",
      "5        0.0\n",
      "6        5.0\n",
      "7        5.0\n",
      "8        8.0\n",
      "9        9.0\n",
      "10       0.0\n",
      "11       0.0\n",
      "12       3.0\n",
      "13       2.0\n",
      "14       4.0\n",
      "15       5.0\n",
      "16       6.0\n",
      "17       3.0\n",
      "18       2.0\n",
      "19       6.0\n",
      "20    1000.0\n",
      "21       7.0\n",
      "dtype: float64\n",
      "RAM usage in byte :  256\n"
     ]
    }
   ],
   "source": [
    "updated_data = data.replace( 5, 55 )\n",
    "print( \"Updated data : \", updated_data )\n",
    "print( \"Replace NAN to value : \", data.fillna( 1000 ))\n",
    "print( \"RAM usage in byte : \", data.memory_usage())"
   ]
  },
  {
   "cell_type": "code",
   "execution_count": 17,
   "metadata": {},
   "outputs": [
    {
     "name": "stdout",
     "output_type": "stream",
     "text": [
      "Count of elements :  21\n",
      "Sum of elements :  75.0\n",
      "Max from elemetns :  9.0\n",
      "Average of elements :  3.5714285714285716\n",
      "Median of elements :  3.0\n",
      "Mode of elements :  0    0.0\n",
      "dtype: float64\n"
     ]
    }
   ],
   "source": [
    "#Statistical functions on Series\n",
    "import pandas as pd\n",
    "import numpy as np\n",
    "data = pd.Series([1,0,2,3,4,0,5,5,8,9,0,0,3,2,4,5,6,3,2,6,np.nan,7]) #\n",
    "print( \"Count of elements : \", data.count())\n",
    "print( \"Sum of elements : \", data.sum())\n",
    "print( \"Max from elemetns : \", data.max())\n",
    "print( \"Average of elements : \", data.mean())\n",
    "print( \"Median of elements : \", data.median())\n",
    "print( \"Mode of elements : \", data.mode())"
   ]
  },
  {
   "cell_type": "markdown",
   "metadata": {},
   "source": [
    "# Dataframe\n"
   ]
  },
  {
   "cell_type": "code",
   "execution_count": 21,
   "metadata": {},
   "outputs": [
    {
     "name": "stdout",
     "output_type": "stream",
     "text": [
      "Empty DataFrame\n",
      "Columns: []\n",
      "Index: []\n",
      "<class 'pandas.core.frame.DataFrame'>\n"
     ]
    }
   ],
   "source": [
    "#import the pandas library and aliasing as pd\n",
    "import pandas as pd\n",
    "df = pd.DataFrame()\n",
    "print (df )\n",
    "print ( type(df)) # <class 'pandas.core.frame.DataFrame'>"
   ]
  },
  {
   "cell_type": "code",
   "execution_count": 23,
   "metadata": {},
   "outputs": [
    {
     "name": "stdout",
     "output_type": "stream",
     "text": [
      "   0\n",
      "0  1\n",
      "1  2\n",
      "2  3\n",
      "3  4\n",
      "4  5\n",
      "        City     Pin\n",
      "0      Noida  201301\n",
      "2      Delhi  110001\n",
      "4     Mumbai  400011\n",
      "6     Mumbai  400001\n",
      "8  bengaluru  560001\n"
     ]
    }
   ],
   "source": [
    "# Dataframe using List\n",
    "import pandas as pd\n",
    "list1 = [1,2,3,4,5] # list\n",
    "df = pd.DataFrame(list1 )\n",
    "print (df )\n",
    "# 2D list\n",
    "list2 = [ ['Noida',201301],['Delhi',110001],['Mumbai',400011],['Mumbai',400001],['bengaluru',560001] ]\n",
    "df = pd.DataFrame( list2, columns=['City', 'Pin'], index=range(0,10,2), dtype=int) # dtype change the\n",
    "# Pin column as int\n",
    "print(df)"
   ]
  },
  {
   "cell_type": "code",
   "execution_count": 24,
   "metadata": {
    "scrolled": true
   },
   "outputs": [
    {
     "name": "stdout",
     "output_type": "stream",
     "text": [
      "Without Row Lebel / Index : \n",
      "         City     Pin\n",
      "0      Noida  201301\n",
      "1      Delhi  110001\n",
      "2     Mumbai  400001\n",
      "3  Bengaluru  560001\n",
      "\n",
      "With Row Lebel / Index : \n",
      "           City     Pin\n",
      "200      Noida  201301\n",
      "110      Delhi  110001\n",
      "400     Mumbai  400001\n",
      "560  Bengaluru  560001\n"
     ]
    }
   ],
   "source": [
    "# Dataframe using Dict\n",
    "\n",
    "import pandas as pd\n",
    "data = {'City' : ['Noida', 'Delhi', 'Mumbai', 'Bengaluru'],\n",
    "'Pin' : [201301, 110001, 400001, 560001] } # default index assigned to row\n",
    "df = pd.DataFrame(data)\n",
    "print (\"Without Row Lebel / Index : \\n\", df )\n",
    "df = pd.DataFrame(data, index=['200', '110', '400', '560'])\n",
    "print (\"\\nWith Row Lebel / Index : \\n\", df)"
   ]
  },
  {
   "cell_type": "code",
   "execution_count": 25,
   "metadata": {},
   "outputs": [
    {
     "name": "stdout",
     "output_type": "stream",
     "text": [
      "   a   b     c\n",
      "0  1   2   NaN\n",
      "1  5  10  20.0\n",
      "        a   b\n",
      "first   1   2\n",
      "second  5  10\n",
      "        a  b1\n",
      "first   1 NaN\n",
      "second  5 NaN\n"
     ]
    }
   ],
   "source": [
    "# Dataframe using list of Dict\n",
    "\n",
    "import pandas as pd\n",
    "data = [ { 'a': 1, 'b': 2},\n",
    "{ 'a': 5, 'b': 10, 'c': 20 }] # Keys will be label of column\n",
    "df = pd.DataFrame(data)\n",
    "print (df )\n",
    "df1 = pd.DataFrame(data, index=['first', 'second'], columns=['a', 'b'])\n",
    "print (df1) #With two column indices, values same as dictionary keys\n",
    "df2 = pd.DataFrame(data, index=['first', 'second'], columns=['a', 'b1']) # Nan if data missed for column\n",
    "print (df2) #With two column indices with one index with other name"
   ]
  },
  {
   "cell_type": "code",
   "execution_count": 26,
   "metadata": {},
   "outputs": [
    {
     "name": "stdout",
     "output_type": "stream",
     "text": [
      "   0  1  2\n",
      "0  1  2  3\n",
      "1  4  5  6\n",
      "   col1  col2  col3\n",
      "0     1     2     3\n",
      "1     4     5     6\n"
     ]
    }
   ],
   "source": [
    "# Dataframe using ndarray\n",
    "import pandas as pd\n",
    "np_array = np.array( [ [1, 2, 3], [4, 5, 6] ] ) # Default row index and column label\n",
    "df = pd.DataFrame( np_array )\n",
    "print ( df )\n",
    "# Custom row index and column index\n",
    "df = pd.DataFrame( np_array, index=range(2), columns=['col1', 'col2', 'col3' ] )\n",
    "print ( df )"
   ]
  },
  {
   "cell_type": "code",
   "execution_count": 27,
   "metadata": {},
   "outputs": [
    {
     "name": "stdout",
     "output_type": "stream",
     "text": [
      "   one  two\n",
      "a  1.0    1\n",
      "b  2.0    2\n",
      "c  3.0    3\n",
      "d  NaN    4\n"
     ]
    }
   ],
   "source": [
    "# Dataframe using Dict of Series\n",
    "import pandas as pd\n",
    "d = { 'one' : pd.Series([1, 2, 3], index=['a', 'b', 'c']),\n",
    "'two' : pd.Series([1, 2, 3, 4], index=['a', 'b', 'c', 'd'])}\n",
    "df = pd.DataFrame(d)\n",
    "print ( df )"
   ]
  },
  {
   "cell_type": "code",
   "execution_count": 28,
   "metadata": {},
   "outputs": [
    {
     "name": "stdout",
     "output_type": "stream",
     "text": [
      "Type of data : \n",
      " <class 'pandas.core.frame.DataFrame'>\n",
      "Shape of data :  (4, 2)\n",
      "Element count :  8\n",
      "Data types of data :  City    object\n",
      "Pin      int64\n",
      "dtype: object\n",
      "Data types of data :  int64\n",
      "Data types of data :  float64\n"
     ]
    }
   ],
   "source": [
    "# Know the data\n",
    "\n",
    "data = {'City' : ['Noida', 'Delhi', 'Mumbai', 'Bengaluru'],\n",
    "'Pin' : [201301, 110001, 400001, 560001] } # and Row label index assigned as default\n",
    "df = pd.DataFrame(data, index=['200', '110', '400', '560'])\n",
    "print (\"Type of data : \\n\", type(df ) ) # <class 'pandas.core.frame.DataFrame'>\n",
    "print (\"Shape of data : \", df.shape) # Shape of data : (4, 2)\n",
    "print (\"Element count : \", df.size) # Element count : 8\n",
    "print (\"Data types of data : \", df.dtypes)\n",
    "print (\"Data types of data : \", df.Pin.dtypes) # Data types of column : int64\n",
    "df.Pin = df.Pin.astype( np.float ) # change the Data Type\n",
    "print (\"Data types of data : \", df[\"Pin\"].dtypes) # Data types of data : float64"
   ]
  },
  {
   "cell_type": "code",
   "execution_count": 29,
   "metadata": {},
   "outputs": [
    {
     "name": "stdout",
     "output_type": "stream",
     "text": [
      "Row labels / Index from DataFrame : \n",
      " Index(['200', '110', '400', '560'], dtype='object')\n",
      "Columns lable from DataFrame : \n",
      " Index(['City', 'Pin'], dtype='object')\n",
      "110    1\n",
      "200    1\n",
      "400    1\n",
      "560    1\n",
      "dtype: int64\n",
      "First Rows from DataFrame : \n",
      "           City       Pin\n",
      "200      Noida  201301.0\n",
      "110      Delhi  110001.0\n",
      "400     Mumbai  400001.0\n",
      "560  Bengaluru  560001.0\n",
      "Last Rows from DataFrame : \n",
      "           City       Pin\n",
      "200      Noida  201301.0\n",
      "110      Delhi  110001.0\n",
      "400     Mumbai  400001.0\n",
      "560  Bengaluru  560001.0\n"
     ]
    }
   ],
   "source": [
    "print (\"Row labels / Index from DataFrame : \\n\", df.index ) # Row labels / index\n",
    "print (\"Columns lable from DataFrame : \\n\", df.columns ) # Columns labels / index\n",
    "print(df.index.value_counts(ascending=True) )\n",
    "print (\"First Rows from DataFrame : \\n\", df.head() ) # First 5 rows or count passed as parameter\n",
    "print (\"Last Rows from DataFrame : \\n\", df.tail() ) # Last 5 rows or count passed as parameter"
   ]
  },
  {
   "cell_type": "code",
   "execution_count": 30,
   "metadata": {},
   "outputs": [
    {
     "name": "stdout",
     "output_type": "stream",
     "text": [
      "Transpose the DataFrame : \n",
      "          200     110     400        560\n",
      "City   Noida   Delhi  Mumbai  Bengaluru\n",
      "Pin   201301  110001  400001     560001\n",
      "Axes of DataFrame : \n",
      " [Index(['200', '110', '400', '560'], dtype='object'), Index(['City', 'Pin'], dtype='object')]\n"
     ]
    }
   ],
   "source": [
    "print ( \"Transpose the DataFrame : \\n\", df.T ) # Row changed to column\n",
    "print ( \"Axes of DataFrame : \\n\", df.axes ) # Row label and column information\n",
    "# [Index(['200', '110', '400', '560'], dtype='object'), Index(['City', 'Pin'], dtype='object')]"
   ]
  },
  {
   "cell_type": "code",
   "execution_count": 31,
   "metadata": {},
   "outputs": [
    {
     "name": "stdout",
     "output_type": "stream",
     "text": [
      "a    1.0\n",
      "b    2.0\n",
      "c    3.0\n",
      "d    NaN\n",
      "Name: one, dtype: float64\n",
      "   one  two\n",
      "a  1.0    1\n",
      "b  2.0    2\n",
      "c  3.0    3\n",
      "d  NaN    4\n"
     ]
    }
   ],
   "source": [
    "# Access Column\n",
    "\n",
    "import pandas as pd\n",
    "d = { 'one' : pd.Series( [ 1, 2, 3], index=['a', 'b', 'c']),\n",
    "'two' : pd.Series( [ 1, 2, 3, 4], index=['a', 'b', 'c', 'd']) }\n",
    "df = pd.DataFrame(d)\n",
    "print (df ['one'] ) # Selected single element\n",
    "print (df [[ 'one', 'two'] ] ) # Selected multiple elements"
   ]
  },
  {
   "cell_type": "code",
   "execution_count": 35,
   "metadata": {},
   "outputs": [
    {
     "name": "stdout",
     "output_type": "stream",
     "text": [
      "   one  two  three\n",
      "a  1.0    1   10.0\n",
      "b  2.0    2   20.0\n",
      "c  3.0    3   30.0\n",
      "d  NaN    4    NaN\n",
      "   two  three\n",
      "a    1   10.0\n",
      "b    2   20.0\n",
      "c    3   30.0\n",
      "d    4    NaN\n",
      "   three\n",
      "a   10.0\n",
      "b   20.0\n",
      "c   30.0\n",
      "d    NaN\n"
     ]
    }
   ],
   "source": [
    "# Column deletion from Dataframe\n",
    "import pandas as pd\n",
    "d = { 'one' : pd.Series([1, 2, 3], index=['a', 'b', 'c']),\n",
    "'two' : pd.Series([1, 2, 3, 4], index=['a', 'b', 'c', 'd']),\n",
    "'three' : pd.Series([10,20,30], index=['a','b','c'])}\n",
    "df = pd.DataFrame(d)\n",
    "print (df )\n",
    "del df['one'] # Deleting the first column using DEL function\n",
    "print (df)\n",
    "var = df.pop('two') # Deleting another column using POP function\n",
    "print (df )"
   ]
  },
  {
   "cell_type": "code",
   "execution_count": 19,
   "metadata": {
    "scrolled": true
   },
   "outputs": [
    {
     "name": "stdout",
     "output_type": "stream",
     "text": [
      "   one  two\n",
      "a  1.0    1\n",
      "b  2.0    2\n",
      "c  3.0    3\n",
      "d  NaN    4\n",
      "   one  two\n",
      "b  2.0    2\n",
      "c  3.0    3\n",
      "one    2.0\n",
      "two    2.0\n",
      "Name: b, dtype: float64\n",
      "one    3.0\n",
      "two    3.0\n",
      "Name: c, dtype: float64\n",
      "   one  two\n",
      "c  3.0    3\n",
      "d  NaN    4\n"
     ]
    }
   ],
   "source": [
    "# Row Selection\n",
    "# Except Slicing we also have two methods to access row wise data :\n",
    "# – loc - used index as label\n",
    "# – iloc - Used index as integer position\n",
    "import pandas as pd\n",
    "d = {'one' : pd.Series([1, 2, 3], index=['a', 'b', 'c']),\n",
    "'two' : pd.Series([1, 2, 3, 4], index=['a', 'b', 'c', 'd'])}\n",
    "df = pd.DataFrame(d)\n",
    "print(df)\n",
    "print ( df.loc[['b', 'c']] ) # Select by index Label\n",
    "print ( df.loc['b'] ) # Select by index Labels\n",
    "print ( df.iloc[2] ) # Select by integer location\n",
    "print ( df[2:4] ) # Row Slicing"
   ]
  },
  {
   "cell_type": "code",
   "execution_count": 34,
   "metadata": {},
   "outputs": [
    {
     "name": "stdout",
     "output_type": "stream",
     "text": [
      "   a  b\n",
      "0  1  2\n",
      "1  3  4\n",
      "0  5  6\n",
      "1  7  8\n"
     ]
    }
   ],
   "source": [
    "# Row addition\n",
    "import pandas as pd\n",
    "df = pd.DataFrame([[1, 2], [3, 4]], columns = ['a','b'])\n",
    "df2 = pd.DataFrame([[5, 6], [7, 8]], columns = ['a','b'])\n",
    "df = df.append(df2)\n",
    "print (df )"
   ]
  },
  {
   "cell_type": "code",
   "execution_count": 21,
   "metadata": {},
   "outputs": [
    {
     "name": "stdout",
     "output_type": "stream",
     "text": [
      "   a  b\n",
      "0  1  2\n",
      "1  3  4\n",
      "0  5  6\n",
      "1  7  8\n",
      "   a  b\n",
      "1  3  4\n",
      "1  7  8\n"
     ]
    }
   ],
   "source": [
    "# Row deletion\n",
    "import pandas as pd\n",
    "df = pd.DataFrame([[1, 2], [3, 4]], columns = ['a','b'])\n",
    "df2 = pd.DataFrame([[5, 6], [7, 8]], columns = ['a','b'])\n",
    "df = df.append(df2)\n",
    "print (df )\n",
    "# Drop rows with label 0\n",
    "df = df.drop(0)\n",
    "print (df )"
   ]
  },
  {
   "cell_type": "code",
   "execution_count": 22,
   "metadata": {
    "scrolled": true
   },
   "outputs": [
    {
     "data": {
      "text/plain": [
       "1    16\n",
       "1    64\n",
       "Name: b, dtype: int64"
      ]
     },
     "execution_count": 22,
     "metadata": {},
     "output_type": "execute_result"
    }
   ],
   "source": [
    "df['b'].apply(lambda x: x**2)"
   ]
  },
  {
   "cell_type": "code",
   "execution_count": null,
   "metadata": {},
   "outputs": [],
   "source": []
  }
 ],
 "metadata": {
  "kernelspec": {
   "display_name": "Python 3",
   "language": "python",
   "name": "python3"
  },
  "language_info": {
   "codemirror_mode": {
    "name": "ipython",
    "version": 3
   },
   "file_extension": ".py",
   "mimetype": "text/x-python",
   "name": "python",
   "nbconvert_exporter": "python",
   "pygments_lexer": "ipython3",
   "version": "3.7.3"
  }
 },
 "nbformat": 4,
 "nbformat_minor": 2
}
